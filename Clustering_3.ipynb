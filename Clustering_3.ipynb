{
 "cells": [
  {
   "cell_type": "markdown",
   "id": "5f487a91",
   "metadata": {},
   "source": [
    "#### Import libraries"
   ]
  },
  {
   "cell_type": "code",
   "execution_count": 1,
   "id": "d0755786",
   "metadata": {},
   "outputs": [
    {
     "name": "stderr",
     "output_type": "stream",
     "text": [
      "/Users/violetapascuallaborda/opt/anaconda3/lib/python3.9/site-packages/pandas/core/computation/expressions.py:21: UserWarning: Pandas requires version '2.8.4' or newer of 'numexpr' (version '2.8.1' currently installed).\n",
      "  from pandas.core.computation.check import NUMEXPR_INSTALLED\n",
      "/Users/violetapascuallaborda/opt/anaconda3/lib/python3.9/site-packages/pandas/core/arrays/masked.py:60: UserWarning: Pandas requires version '1.3.6' or newer of 'bottleneck' (version '1.3.4' currently installed).\n",
      "  from pandas.core import (\n",
      "2024-07-04 15:34:22.020752: I tensorflow/core/platform/cpu_feature_guard.cc:182] This TensorFlow binary is optimized to use available CPU instructions in performance-critical operations.\n",
      "To enable the following instructions: AVX2 AVX512F AVX512_VNNI FMA, in other operations, rebuild TensorFlow with the appropriate compiler flags.\n"
     ]
    }
   ],
   "source": [
    "import pandas as pd\n",
    "import numpy as np\n",
    "import matplotlib.pyplot as plt\n",
    "import plotly.express as px\n",
    "import plotly.graph_objects as go\n",
    "from sklearn.decomposition import PCA\n",
    "import umap\n",
    "from sklearn.neighbors import NearestNeighbors\n",
    "from sklearn.cluster import DBSCAN, AgglomerativeClustering\n",
    "from sklearn.metrics import silhouette_score, davies_bouldin_score, adjusted_rand_score\n",
    "from docx import Document\n",
    "import seaborn as sns\n",
    "from docx.shared import Inches\n",
    "from docx.oxml import OxmlElement\n",
    "from docx.oxml.ns import qn"
   ]
  },
  {
   "cell_type": "markdown",
   "id": "4c3c7e00",
   "metadata": {},
   "source": [
    "#### Importing data"
   ]
  },
  {
   "cell_type": "code",
   "execution_count": 2,
   "id": "e74d1e6b8a8316c",
   "metadata": {
    "ExecuteTime": {
     "end_time": "2024-04-06T11:50:00.460111200Z",
     "start_time": "2024-04-06T11:50:00.350306900Z"
    },
    "collapsed": false
   },
   "outputs": [
    {
     "data": {
      "text/html": [
       "<div>\n",
       "<style scoped>\n",
       "    .dataframe tbody tr th:only-of-type {\n",
       "        vertical-align: middle;\n",
       "    }\n",
       "\n",
       "    .dataframe tbody tr th {\n",
       "        vertical-align: top;\n",
       "    }\n",
       "\n",
       "    .dataframe thead th {\n",
       "        text-align: right;\n",
       "    }\n",
       "</style>\n",
       "<table border=\"1\" class=\"dataframe\">\n",
       "  <thead>\n",
       "    <tr style=\"text-align: right;\">\n",
       "      <th></th>\n",
       "      <th>Participant_ID</th>\n",
       "      <th>Mean_Predictability_Negative</th>\n",
       "      <th>Mean_Predictability_Positive</th>\n",
       "      <th>Predictive_Ability_Negative</th>\n",
       "      <th>Predictive_Ability_Positive</th>\n",
       "      <th>Mean_Predictability_RT</th>\n",
       "      <th>Mean_Likeability_RT</th>\n",
       "      <th>Distance_Negative</th>\n",
       "      <th>Distance_Positive</th>\n",
       "      <th>LR_Fulfilled</th>\n",
       "      <th>LR_Not_Fulfilled</th>\n",
       "      <th>Coherence_Fulfilled</th>\n",
       "      <th>Coherence_Not_Fulfilled</th>\n",
       "    </tr>\n",
       "  </thead>\n",
       "  <tbody>\n",
       "    <tr>\n",
       "      <th>0</th>\n",
       "      <td>PREDWELL_RETOS-1-1</td>\n",
       "      <td>0.366667</td>\n",
       "      <td>0.433333</td>\n",
       "      <td>0.652778</td>\n",
       "      <td>1.194444</td>\n",
       "      <td>0.953844</td>\n",
       "      <td>0.985267</td>\n",
       "      <td>1.133333</td>\n",
       "      <td>0.933333</td>\n",
       "      <td>-0.062500</td>\n",
       "      <td>-0.209091</td>\n",
       "      <td>0.750000</td>\n",
       "      <td>0.666667</td>\n",
       "    </tr>\n",
       "    <tr>\n",
       "      <th>1</th>\n",
       "      <td>PREDWELL_RETOS-10-1</td>\n",
       "      <td>0.033333</td>\n",
       "      <td>0.033333</td>\n",
       "      <td>0.375000</td>\n",
       "      <td>1.000000</td>\n",
       "      <td>1.057556</td>\n",
       "      <td>1.421800</td>\n",
       "      <td>0.866667</td>\n",
       "      <td>0.866667</td>\n",
       "      <td>0.000000</td>\n",
       "      <td>-0.009091</td>\n",
       "      <td>0.527778</td>\n",
       "      <td>0.583333</td>\n",
       "    </tr>\n",
       "    <tr>\n",
       "      <th>2</th>\n",
       "      <td>PREDWELL_RETOS-1002-1</td>\n",
       "      <td>0.166667</td>\n",
       "      <td>0.300000</td>\n",
       "      <td>0.416667</td>\n",
       "      <td>1.222222</td>\n",
       "      <td>0.849711</td>\n",
       "      <td>1.373356</td>\n",
       "      <td>0.766667</td>\n",
       "      <td>0.866667</td>\n",
       "      <td>0.121324</td>\n",
       "      <td>-0.045455</td>\n",
       "      <td>0.527778</td>\n",
       "      <td>0.625000</td>\n",
       "    </tr>\n",
       "    <tr>\n",
       "      <th>3</th>\n",
       "      <td>PREDWELL_RETOS-1003-1</td>\n",
       "      <td>-0.400000</td>\n",
       "      <td>-0.100000</td>\n",
       "      <td>0.500000</td>\n",
       "      <td>1.166667</td>\n",
       "      <td>0.697067</td>\n",
       "      <td>1.218022</td>\n",
       "      <td>1.066667</td>\n",
       "      <td>1.066667</td>\n",
       "      <td>0.091912</td>\n",
       "      <td>0.045455</td>\n",
       "      <td>0.666667</td>\n",
       "      <td>0.708333</td>\n",
       "    </tr>\n",
       "    <tr>\n",
       "      <th>4</th>\n",
       "      <td>PREDWELL_RETOS-1004-1</td>\n",
       "      <td>-0.500000</td>\n",
       "      <td>-0.366667</td>\n",
       "      <td>0.138889</td>\n",
       "      <td>0.388889</td>\n",
       "      <td>1.096356</td>\n",
       "      <td>1.764933</td>\n",
       "      <td>0.866667</td>\n",
       "      <td>0.800000</td>\n",
       "      <td>0.095588</td>\n",
       "      <td>-0.045455</td>\n",
       "      <td>0.583333</td>\n",
       "      <td>0.583333</td>\n",
       "    </tr>\n",
       "    <tr>\n",
       "      <th>...</th>\n",
       "      <td>...</td>\n",
       "      <td>...</td>\n",
       "      <td>...</td>\n",
       "      <td>...</td>\n",
       "      <td>...</td>\n",
       "      <td>...</td>\n",
       "      <td>...</td>\n",
       "      <td>...</td>\n",
       "      <td>...</td>\n",
       "      <td>...</td>\n",
       "      <td>...</td>\n",
       "      <td>...</td>\n",
       "      <td>...</td>\n",
       "    </tr>\n",
       "    <tr>\n",
       "      <th>143</th>\n",
       "      <td>PREDWELL_RETOS-5-1</td>\n",
       "      <td>-0.100000</td>\n",
       "      <td>-0.233333</td>\n",
       "      <td>0.541667</td>\n",
       "      <td>0.916667</td>\n",
       "      <td>0.983622</td>\n",
       "      <td>0.860244</td>\n",
       "      <td>1.200000</td>\n",
       "      <td>1.000000</td>\n",
       "      <td>0.029412</td>\n",
       "      <td>-0.145455</td>\n",
       "      <td>0.527778</td>\n",
       "      <td>0.708333</td>\n",
       "    </tr>\n",
       "    <tr>\n",
       "      <th>144</th>\n",
       "      <td>PREDWELL_RETOS-6-1</td>\n",
       "      <td>-0.300000</td>\n",
       "      <td>-0.100000</td>\n",
       "      <td>0.375000</td>\n",
       "      <td>1.027778</td>\n",
       "      <td>1.137444</td>\n",
       "      <td>1.652133</td>\n",
       "      <td>0.866667</td>\n",
       "      <td>0.466667</td>\n",
       "      <td>0.029412</td>\n",
       "      <td>0.000000</td>\n",
       "      <td>0.583333</td>\n",
       "      <td>0.625000</td>\n",
       "    </tr>\n",
       "    <tr>\n",
       "      <th>145</th>\n",
       "      <td>PREDWELL_RETOS-7-1</td>\n",
       "      <td>-0.033333</td>\n",
       "      <td>-0.166667</td>\n",
       "      <td>0.458333</td>\n",
       "      <td>1.111111</td>\n",
       "      <td>1.226067</td>\n",
       "      <td>0.959311</td>\n",
       "      <td>0.900000</td>\n",
       "      <td>1.000000</td>\n",
       "      <td>0.000000</td>\n",
       "      <td>0.000000</td>\n",
       "      <td>0.555556</td>\n",
       "      <td>0.666667</td>\n",
       "    </tr>\n",
       "    <tr>\n",
       "      <th>146</th>\n",
       "      <td>PREDWELL_RETOS-8-1</td>\n",
       "      <td>0.200000</td>\n",
       "      <td>-0.233333</td>\n",
       "      <td>0.305556</td>\n",
       "      <td>1.055556</td>\n",
       "      <td>0.818778</td>\n",
       "      <td>1.153400</td>\n",
       "      <td>1.366667</td>\n",
       "      <td>0.600000</td>\n",
       "      <td>0.029412</td>\n",
       "      <td>0.045455</td>\n",
       "      <td>0.500000</td>\n",
       "      <td>0.666667</td>\n",
       "    </tr>\n",
       "    <tr>\n",
       "      <th>147</th>\n",
       "      <td>PREDWELL_RETOS-9-1</td>\n",
       "      <td>-0.566667</td>\n",
       "      <td>-0.166667</td>\n",
       "      <td>0.361111</td>\n",
       "      <td>1.111111</td>\n",
       "      <td>1.146489</td>\n",
       "      <td>1.119000</td>\n",
       "      <td>0.833333</td>\n",
       "      <td>1.200000</td>\n",
       "      <td>0.154412</td>\n",
       "      <td>0.000000</td>\n",
       "      <td>0.555556</td>\n",
       "      <td>0.750000</td>\n",
       "    </tr>\n",
       "  </tbody>\n",
       "</table>\n",
       "<p>148 rows × 13 columns</p>\n",
       "</div>"
      ],
      "text/plain": [
       "            Participant_ID  Mean_Predictability_Negative  \\\n",
       "0       PREDWELL_RETOS-1-1                      0.366667   \n",
       "1      PREDWELL_RETOS-10-1                      0.033333   \n",
       "2    PREDWELL_RETOS-1002-1                      0.166667   \n",
       "3    PREDWELL_RETOS-1003-1                     -0.400000   \n",
       "4    PREDWELL_RETOS-1004-1                     -0.500000   \n",
       "..                     ...                           ...   \n",
       "143     PREDWELL_RETOS-5-1                     -0.100000   \n",
       "144     PREDWELL_RETOS-6-1                     -0.300000   \n",
       "145     PREDWELL_RETOS-7-1                     -0.033333   \n",
       "146     PREDWELL_RETOS-8-1                      0.200000   \n",
       "147     PREDWELL_RETOS-9-1                     -0.566667   \n",
       "\n",
       "     Mean_Predictability_Positive  Predictive_Ability_Negative  \\\n",
       "0                        0.433333                     0.652778   \n",
       "1                        0.033333                     0.375000   \n",
       "2                        0.300000                     0.416667   \n",
       "3                       -0.100000                     0.500000   \n",
       "4                       -0.366667                     0.138889   \n",
       "..                            ...                          ...   \n",
       "143                     -0.233333                     0.541667   \n",
       "144                     -0.100000                     0.375000   \n",
       "145                     -0.166667                     0.458333   \n",
       "146                     -0.233333                     0.305556   \n",
       "147                     -0.166667                     0.361111   \n",
       "\n",
       "     Predictive_Ability_Positive  Mean_Predictability_RT  Mean_Likeability_RT  \\\n",
       "0                       1.194444                0.953844             0.985267   \n",
       "1                       1.000000                1.057556             1.421800   \n",
       "2                       1.222222                0.849711             1.373356   \n",
       "3                       1.166667                0.697067             1.218022   \n",
       "4                       0.388889                1.096356             1.764933   \n",
       "..                           ...                     ...                  ...   \n",
       "143                     0.916667                0.983622             0.860244   \n",
       "144                     1.027778                1.137444             1.652133   \n",
       "145                     1.111111                1.226067             0.959311   \n",
       "146                     1.055556                0.818778             1.153400   \n",
       "147                     1.111111                1.146489             1.119000   \n",
       "\n",
       "     Distance_Negative  Distance_Positive  LR_Fulfilled  LR_Not_Fulfilled  \\\n",
       "0             1.133333           0.933333     -0.062500         -0.209091   \n",
       "1             0.866667           0.866667      0.000000         -0.009091   \n",
       "2             0.766667           0.866667      0.121324         -0.045455   \n",
       "3             1.066667           1.066667      0.091912          0.045455   \n",
       "4             0.866667           0.800000      0.095588         -0.045455   \n",
       "..                 ...                ...           ...               ...   \n",
       "143           1.200000           1.000000      0.029412         -0.145455   \n",
       "144           0.866667           0.466667      0.029412          0.000000   \n",
       "145           0.900000           1.000000      0.000000          0.000000   \n",
       "146           1.366667           0.600000      0.029412          0.045455   \n",
       "147           0.833333           1.200000      0.154412          0.000000   \n",
       "\n",
       "     Coherence_Fulfilled  Coherence_Not_Fulfilled  \n",
       "0               0.750000                 0.666667  \n",
       "1               0.527778                 0.583333  \n",
       "2               0.527778                 0.625000  \n",
       "3               0.666667                 0.708333  \n",
       "4               0.583333                 0.583333  \n",
       "..                   ...                      ...  \n",
       "143             0.527778                 0.708333  \n",
       "144             0.583333                 0.625000  \n",
       "145             0.555556                 0.666667  \n",
       "146             0.500000                 0.666667  \n",
       "147             0.555556                 0.750000  \n",
       "\n",
       "[148 rows x 13 columns]"
      ]
     },
     "execution_count": 2,
     "metadata": {},
     "output_type": "execute_result"
    }
   ],
   "source": [
    "df = pd.read_excel(\"/Users/violetapascuallaborda/Desktop/Analysis/Predictive_Processing_Features.xlsx\")\n",
    "df"
   ]
  },
  {
   "cell_type": "code",
   "execution_count": 3,
   "id": "ed8c3b2a",
   "metadata": {},
   "outputs": [],
   "source": [
    "df_features = df.drop('Participant_ID', axis=1)"
   ]
  },
  {
   "cell_type": "markdown",
   "id": "f13c97a6",
   "metadata": {},
   "source": [
    "### **Scaling**"
   ]
  },
  {
   "cell_type": "markdown",
   "id": "b1c5173a",
   "metadata": {},
   "source": [
    "#### Feature weighting"
   ]
  },
  {
   "cell_type": "code",
   "execution_count": 4,
   "id": "bea5eccd",
   "metadata": {},
   "outputs": [],
   "source": [
    "# Weighting factors\n",
    "low_importance_weight = 0.5\n",
    "high_importance_weight = 2.0\n",
    "\n",
    "# Apply weighting factors\n",
    "df_features[['Mean_Predictability_RT', 'Mean_Likeability_RT']] *= low_importance_weight\n",
    "df_features[['LR_Fulfilled', 'LR_Not_Fulfilled', 'Coherence_Fulfilled', 'Coherence_Not_Fulfilled']] *= high_importance_weight"
   ]
  },
  {
   "cell_type": "markdown",
   "id": "1517677e",
   "metadata": {},
   "source": [
    "### **Dimensionality reduction**"
   ]
  },
  {
   "cell_type": "markdown",
   "id": "43c66b006c52a685",
   "metadata": {
    "collapsed": false
   },
   "source": [
    "#### PCA"
   ]
  },
  {
   "cell_type": "code",
   "execution_count": 5,
   "id": "166a7596d533e148",
   "metadata": {
    "ExecuteTime": {
     "end_time": "2024-04-06T11:50:02.337718200Z",
     "start_time": "2024-04-06T11:50:02.175505700Z"
    },
    "collapsed": false
   },
   "outputs": [],
   "source": [
    "pca = PCA(n_components=3)\n",
    "X_pca = pca.fit_transform(df_features)"
   ]
  },
  {
   "cell_type": "code",
   "execution_count": 6,
   "id": "eb305f51",
   "metadata": {},
   "outputs": [
    {
     "data": {
      "image/png": "[encoded data removed]",
      "text/plain": [
       "<Figure size 576x432 with 1 Axes>"
      ]
     },
     "metadata": {
      "needs_background": "light"
     },
     "output_type": "display_data"
    }
   ],
   "source": [
    "def plot_variance_explained(pca):\n",
    "    plt.figure(figsize=(8, 6))\n",
    "    plt.bar(range(1, len(pca.explained_variance_ratio_) + 1), pca.explained_variance_ratio_, alpha=0.5, align='center')\n",
    "    plt.title('Explained Variance Ratio')\n",
    "    plt.xlabel('Principal Component')\n",
    "    plt.ylabel('Explained Variance Ratio')\n",
    "    plt.show()\n",
    "    \n",
    "# Plot the variance explained by each principal component\n",
    "plot_variance_explained(pca)"
   ]
  },
  {
   "cell_type": "code",
   "execution_count": 7,
   "id": "d92ad05c",
   "metadata": {},
   "outputs": [
    {
     "data": {
      "image/png": "[encoded data removed]",
      "text/plain": [
       "<Figure size 360x864 with 3 Axes>"
      ]
     },
     "metadata": {
      "needs_background": "light"
     },
     "output_type": "display_data"
    }
   ],
   "source": [
    "def plot_loadings(pca, data):\n",
    "    loading_matrix = pca.components_\n",
    "    plt.figure(figsize=(5, 12))\n",
    "\n",
    "    for i in range(3):\n",
    "        plt.subplot(3, 1, i+1)\n",
    "        plt.bar(range(len(data.columns)), loading_matrix[i])\n",
    "        plt.xticks(range(len(data.columns)), data.columns, rotation=90)\n",
    "        plt.title(f'Principal Component {i+1}')\n",
    "        plt.ylabel('Loading')\n",
    "    plt.tight_layout()\n",
    "    plt.show()\n",
    "\n",
    "# Plot the loading vectors for each variable\n",
    "plot_loadings(pca, df_features)"
   ]
  },
  {
   "cell_type": "markdown",
   "id": "4a120ddf",
   "metadata": {},
   "source": [
    "#### UMAP"
   ]
  },
  {
   "cell_type": "code",
   "execution_count": 8,
   "id": "93cb12eb",
   "metadata": {},
   "outputs": [
    {
     "name": "stderr",
     "output_type": "stream",
     "text": [
      "/Users/violetapascuallaborda/opt/anaconda3/lib/python3.9/site-packages/umap/umap_.py:1945: UserWarning: n_jobs value 1 overridden to 1 by setting random_state. Use no seed for parallelism.\n",
      "  warn(f\"n_jobs value {self.n_jobs} overridden to 1 by setting random_state. Use no seed for parallelism.\")\n",
      "/Users/violetapascuallaborda/opt/anaconda3/lib/python3.9/site-packages/numba/np/ufunc/parallel.py:371: NumbaWarning: \u001b[1mThe TBB threading layer requires TBB version 2021 update 6 or later i.e., TBB_INTERFACE_VERSION >= 12060. Found TBB_INTERFACE_VERSION = 12050. The TBB threading layer is disabled.\u001b[0m\n",
      "  warnings.warn(problem)\n",
      "OMP: Info #271: omp_set_nested routine deprecated, please use omp_set_max_active_levels instead.\n"
     ]
    }
   ],
   "source": [
    "umap_reducer = umap.UMAP(n_components=3, random_state=42)\n",
    "X_umap = umap_reducer.fit_transform(df_features)"
   ]
  },
  {
   "cell_type": "markdown",
   "id": "82b04709",
   "metadata": {},
   "source": [
    "### **Clustering**"
   ]
  },
  {
   "cell_type": "markdown",
   "id": "541faa5a",
   "metadata": {},
   "source": [
    "#### **DBSCAN**"
   ]
  },
  {
   "cell_type": "code",
   "execution_count": 9,
   "id": "ce154743",
   "metadata": {},
   "outputs": [],
   "source": [
    "# Set value for minPts\n",
    "minPts = 5"
   ]
  },
  {
   "cell_type": "markdown",
   "id": "c6c3eead",
   "metadata": {},
   "source": [
    "#### Using PCA reduction"
   ]
  },
  {
   "cell_type": "code",
   "execution_count": 10,
   "id": "17301081",
   "metadata": {},
   "outputs": [
    {
     "data": {
      "image/png": "[encoded data removed]",
      "text/plain": [
       "<Figure size 432x288 with 1 Axes>"
      ]
     },
     "metadata": {
      "needs_background": "light"
     },
     "output_type": "display_data"
    }
   ],
   "source": [
    "# Calculate distances to the k-th nearest neighbor\n",
    "nbrs = NearestNeighbors(n_neighbors=minPts).fit(X_pca)\n",
    "distances, indices = nbrs.kneighbors(X_pca)\n",
    "distances = np.sort(distances[:, minPts - 1], axis=0)\n",
    "\n",
    "# Plot the k-distance plot\n",
    "plt.plot(distances)\n",
    "plt.xlabel('Ordered data points')\n",
    "plt.ylabel('Distance to the {}-th nearest neighbor'.format(minPts))\n",
    "plt.title('k-Distance Plot')\n",
    "plt.show()"
   ]
  },
  {
   "cell_type": "code",
   "execution_count": 11,
   "id": "a3b84c6d",
   "metadata": {},
   "outputs": [
    {
     "data": {
      "application/vnd.plotly.v1+json": {
       "config": {
        "plotlyServerURL": "https://plot.ly"
       },
       "data": [
        {
         "marker": {
          "color": "rgb(158,1,66)",
          "size": 5
         },
         "mode": "markers",
         "name": "Cluster 0",
         "type": "scatter3d",
         "x": [
          -0.04851925060963691,
          0.15165166975160224,
          -0.15145885672060405,
          -0.7730657918780762,
          0.4639627830508569,
          0.0767993469244338,
          0.5054219895952353,
          -0.13057837539015363,
          -0.3166913222815766,
          0.18108883850583438,
          -0.2521007923351013,
          -0.26043069583775946,
          -0.34844486962645116,
          -0.11220833660934255,
          -0.5110581683470736,
          -0.4816156076119346,
          0.4517899804828255,
          -0.10963023191659738,
          -0.4901335115506042,
          -0.30699975357264214,
          0.26920772614512206,
          0.11214000272993686,
          -0.37492666850164247,
          0.10956771689955105,
          0.1954339547492692,
          0.28803744661031383,
          0.45211023602772693,
          0.18806877927857302,
          -0.29829213774183905,
          0.05546277422905359,
          -0.031085866942890148,
          -0.23693769301918635,
          -0.46110727099229637,
          -0.016190102264539367,
          -0.12924411731721663,
          0.7564303955395119,
          -0.3233852011499131,
          0.341137214465863,
          -0.41430774689559235,
          -0.25899059550027287,
          0.07863411520431116,
          -0.05147927590590001,
          0.3797621144102848,
          0.5279159962495131,
          -0.29444071029653346,
          -0.48229883780405663,
          0.24627940648809965,
          0.046628688245304556,
          0.16902950348525006,
          0.3198130217302464,
          -0.34713458334523906,
          0.0600161676126917,
          -0.08298592600115101,
          -0.02388542839514926,
          0.40287088616602545,
          -0.5419837427269654,
          -0.3302808844926069,
          0.2019782476340559,
          -0.5262999649595043,
          -0.043488578527294486,
          0.40731819990622675,
          0.2722989948122193,
          -0.7076321669089621,
          -0.28347511132891096,
          -0.27343939905410314,
          0.02264181620516077,
          -0.1856412576649735,
          0.3281159781295577,
          -0.059112826495774796,
          -0.33558404914081075,
          -0.12709769480894287,
          -0.20950199950710077,
          -0.5364834463044093,
          0.26950144713509394,
          -0.19238854880367362,
          -0.6270833221586491,
          0.18422983880689567,
          0.153353103207434,
          0.4627470646894092,
          -0.3677116159454916,
          0.24659047280923682,
          -0.16356976481419427,
          -0.7356964163048225,
          0.2175880593690997,
          -0.43823044105073017,
          -0.4292913762448299,
          -0.6658821323380207,
          -0.03946760769760503,
          0.19842547634657925,
          0.06875612865072342,
          -0.07029660704426059,
          -0.1838015509298477,
          -0.07315573127481044,
          0.12733740744993347,
          0.24602234808049583,
          -0.0624364805365706,
          -0.40093007076141357,
          0.16909451975540296,
          0.1061158194885218,
          0.37888532352190557,
          -0.1989002798094714,
          0.42037156836421063,
          0.4151669600901864,
          0.4448928757978184,
          0.11104747023428843,
          0.3023539092445777,
          -0.3530740258223574,
          -0.43875756161886476,
          0.48218939316145193,
          -0.059538462002586036,
          0.3779081854643887,
          -0.9131583569341908,
          0.10849760509044348,
          0.30380823418890857,
          -0.09944600882623396,
          0.6017293731725456,
          0.7182557343581781,
          -0.46192115351544916,
          -0.1290393437064805,
          0.2490252790807777,
          -0.03575564961954495,
          0.0999626174243836,
          -0.7204641000453992,
          0.017532692899403346,
          -0.26955191876348905,
          -0.4326199241659483,
          -0.29289732475230795,
          0.20254586173214117,
          0.09687778376533171,
          0.14885811522102552,
          -0.41962235550023347,
          -0.032927087775107444,
          -0.2753147377144424,
          -0.08786513895503904,
          0.2447148212456019,
          -0.5081885485938793
         ],
         "y": [
          -0.0202421644096617,
          -0.0900204705204267,
          0.3493396075023073,
          0.04967948603927428,
          -0.21613105433582736,
          0.36545469707041456,
          -0.13304834721409972,
          -0.18490315910487173,
          -0.052404935924209556,
          -0.06397932927016518,
          0.3729133250948455,
          -0.4289507549402878,
          -0.01935716696094755,
          -0.22226594903252833,
          0.22959460636953472,
          0.4619250057990093,
          -0.24580196210039557,
          0.12810756715558858,
          0.3268831662853758,
          0.08664760181039649,
          -0.13193606173852002,
          -0.5068793721086431,
          -0.8597930500044142,
          -0.7071579659391075,
          -0.16156426412146718,
          0.015695947008198072,
          -0.17326212828288276,
          0.0694619031947645,
          -0.5799989627858567,
          0.6467395724137427,
          -0.2192410180680396,
          0.33642598972597576,
          0.21399772723482438,
          0.6046417072473675,
          0.07720387546333918,
          -0.27777400919830186,
          -0.47043748975775085,
          0.5610576335156338,
          -0.48564066261274663,
          0.01570620127965286,
          -0.16745552888100654,
          -0.022518183785747183,
          0.061308786616633276,
          -0.16256287392395713,
          -0.37488463270835476,
          -0.1771172760962604,
          -0.056900402536760396,
          0.30151085609552347,
          -0.1838096483708842,
          0.14785182909121933,
          -0.31042738960679145,
          0.023429689040369215,
          0.05463292745508137,
          -0.3063946123737715,
          0.4568804896809768,
          0.3385315989891264,
          0.09668984815797688,
          0.16634587357504388,
          0.48761112485898517,
          -0.2756066083372093,
          -0.0645116725722689,
          -0.5576229201659022,
          -0.2437548305843655,
          -0.17707938759839806,
          0.029507234936926675,
          -0.1049196442985878,
          0.6135985979862753,
          0.13493070033953344,
          0.35238518686018,
          -0.13670924842795568,
          0.5024628380144976,
          0.3579110197929607,
          -0.3035906872686733,
          -0.5231323721887198,
          0.10168541107160045,
          -0.44282966093091286,
          0.09124050459327065,
          0.19380901343956436,
          -0.2648191735681018,
          -0.2243397145370735,
          0.44285147326779356,
          -0.15232645734188308,
          0.013360113161501942,
          -0.19321866163275483,
          0.17526783461293458,
          -0.5399066746115756,
          0.15166856086222097,
          0.2156298606644899,
          -0.012047531097014494,
          -0.2475747229180994,
          -0.6489821055823398,
          -0.6692039424910964,
          0.12374094448681555,
          -0.43015774652756383,
          0.38720656477349535,
          0.18558303650103608,
          -0.1575118566758766,
          -0.2312854370310507,
          -0.278572429238959,
          -0.10111661304967748,
          0.3549385295666879,
          -0.07051909444645728,
          0.28204391254485733,
          0.4076689862450504,
          0.3045927920720617,
          0.08167387898950496,
          -0.2125516262049827,
          -0.04385908507740043,
          -0.29544700733107865,
          0.3853917492899859,
          -0.2728855175358285,
          0.20653800842894707,
          0.16870770187255635,
          -0.05189342210490503,
          -0.24746311348507705,
          -0.45363227181787213,
          -0.2717475206939898,
          -0.2661576937916877,
          0.2802291347517095,
          -0.5681016257399808,
          -0.043900340464197544,
          -0.41953576827886657,
          -0.2646961877100163,
          0.3529479426839506,
          0.40760157654602874,
          -0.24399461038638412,
          -0.32755197625436355,
          -0.1525202005011735,
          0.2788307161553925,
          0.24475535281964847,
          -0.39844298605846956,
          0.3669583596697327,
          -0.31528227978718915,
          0.19096354140573787,
          -0.019334111664837193,
          0.4438603895650005
         ],
         "z": [
          0.25872127419988655,
          0.3903224822540463,
          -0.1471007501875735,
          -0.03287684995653452,
          -0.02320621382919242,
          -0.19717336968768165,
          -0.12316421439248049,
          0.16174976648064884,
          0.170277310184596,
          -0.35682231291679256,
          0.00536178495090084,
          0.2782581814383322,
          0.1357760744980697,
          0.20631293955243335,
          0.04328214376770628,
          -0.01630818775222472,
          0.39724618045081334,
          -0.2289641394060953,
          0.025338411524282397,
          -0.041193358130685816,
          0.4771906730217607,
          0.13832061001412344,
          0.045088247063308225,
          0.14842647308148207,
          0.1735828222161775,
          -0.16604173750887652,
          -0.2732107677282037,
          -0.48736782081030505,
          0.16586842560506332,
          -0.33684498260919715,
          0.13758307524901722,
          -0.38563863895244177,
          -0.5291183270390771,
          0.10587603246806856,
          -0.3377983678283077,
          -0.5414305717354154,
          -0.08728935898839532,
          -0.20470475250994302,
          -0.11207809397560503,
          -0.5474510173264263,
          -0.26488114659598283,
          0.27857366314936854,
          0.12210979268764982,
          -0.37241014245105275,
          0.08819001924472593,
          0.036301596194509955,
          0.25459611208953814,
          0.20254762380285937,
          0.027709686173117053,
          -0.01972797860177499,
          0.06447567327475051,
          -0.11258929364869953,
          0.27494083921959817,
          0.29578124180966714,
          0.46865832902333165,
          0.06710808207487805,
          0.08982996028083308,
          -0.21474012446860036,
          -0.0014112859639607354,
          0.06894603745799775,
          0.02875923224694035,
          -0.13015304892139767,
          -0.20946437981362367,
          -0.2526958795977589,
          0.21401601810559934,
          0.18732213503660775,
          0.23630619141789488,
          -0.19163611994710306,
          0.10369526856064372,
          0.14888061689300774,
          0.23494657431802426,
          -0.2592998576755692,
          0.08211655289001402,
          0.009696321631099503,
          -0.3354980307978263,
          -0.099553527425019,
          0.2116776899589853,
          0.08783291180310748,
          -0.3348675741065779,
          -0.19218741834062136,
          0.42398967147578953,
          0.1400593925675659,
          0.227115509575796,
          -0.2597968158983937,
          -0.0048392394236898995,
          -0.06973107413432816,
          -0.09058905470013924,
          -0.16548303413934617,
          -0.06904032788629509,
          -0.044665351284888175,
          0.14250729988875036,
          0.42041394169540136,
          0.2286442225530273,
          -0.01659074039590802,
          0.09461361844151252,
          -0.04853883548933093,
          -0.10650953636539653,
          0.03457146956965485,
          -0.015923809602357685,
          0.1606199177286291,
          -0.20005164036605147,
          -0.5554437227446293,
          -0.09351432632065093,
          0.2582578895311485,
          0.04353692956084654,
          -0.7016973822173088,
          -0.26631269902131405,
          0.0711335967023393,
          -0.2785523370192328,
          0.5064011818768296,
          -0.3842315062806405,
          -0.18659302866110677,
          0.1746780453363051,
          0.287795864332201,
          0.45470833582274434,
          0.17051015010851253,
          -0.26898745412514774,
          -0.0648894129342187,
          -0.09861268023582277,
          -0.16947306478764643,
          -0.16460205942575798,
          0.6367389647820887,
          -0.2778583511728464,
          -0.004203917118433381,
          0.4957989779762049,
          -0.29416966603354466,
          -0.10189475444588916,
          -0.17471827529713185,
          0.07137791911544236,
          0.06470994801687072,
          0.009121204265711592,
          0.06904992006748319,
          -0.08221319865805127,
          0.20040259790780077,
          -0.16886033209251064,
          -0.016613040343831154
         ]
        },
        {
         "marker": {
          "color": "rgb(94,79,162)",
          "size": 5
         },
         "mode": "markers",
         "name": "Cluster -1",
         "type": "scatter3d",
         "x": [
          0.6494082579499838,
          0.7146569450858653,
          0.3301361758414104,
          1.0904747442265412,
          0.4102669782693228,
          0.7937016088816179,
          0.13958567494722732,
          -0.0981115681767345,
          0.6874297021849546,
          0.6896615882453221,
          -0.219759257561523,
          1.0351821613022447
         ],
         "y": [
          0.05503650767289872,
          0.0992007430365677,
          0.8578491407335055,
          -0.15901562583661824,
          0.0011587189011086096,
          0.7714350359337511,
          0.899318382822462,
          0.9918107605272981,
          -0.4880570654371585,
          0.6429509602237325,
          0.8177201992015956,
          -0.43302050479676657
         ],
         "z": [
          0.42932152157326386,
          0.35077730442019245,
          0.17561723419151531,
          -0.4544224942625159,
          0.9163112734017641,
          0.0714528566812526,
          -0.09680317974499501,
          0.2947572188526853,
          0.3019358374169536,
          -0.03659786761687331,
          -0.706094451416112,
          -0.3705125895124039
         ]
        }
       ],
       "layout": {
        "font": {
         "color": "black"
        },
        "legend": {
         "font": {
          "color": "black"
         },
         "orientation": "v",
         "title": {
          "font": {
           "color": "black"
          }
         },
         "x": 1.02,
         "xanchor": "left",
         "y": 1,
         "yanchor": "top"
        },
        "margin": {
         "b": 0,
         "l": 0,
         "r": 0,
         "t": 40
        },
        "scene": {
         "xaxis": {
          "tickfont": {
           "color": "black"
          },
          "title": {
           "font": {
            "color": "black"
           },
           "text": "PCA Dimension 1"
          }
         },
         "yaxis": {
          "tickfont": {
           "color": "black"
          },
          "title": {
           "font": {
            "color": "black"
           },
           "text": "PCA Dimension 2"
          }
         },
         "zaxis": {
          "tickfont": {
           "color": "black"
          },
          "title": {
           "font": {
            "color": "black"
           },
           "text": "PCA Dimension 3"
          }
         }
        },
        "template": {
         "data": {
          "bar": [
           {
            "error_x": {
             "color": "#2a3f5f"
            },
            "error_y": {
             "color": "#2a3f5f"
            },
            "marker": {
             "line": {
              "color": "#E5ECF6",
              "width": 0.5
             },
             "pattern": {
              "fillmode": "overlay",
              "size": 10,
              "solidity": 0.2
             }
            },
            "type": "bar"
           }
          ],
          "barpolar": [
           {
            "marker": {
             "line": {
              "color": "#E5ECF6",
              "width": 0.5
             },
             "pattern": {
              "fillmode": "overlay",
              "size": 10,
              "solidity": 0.2
             }
            },
            "type": "barpolar"
           }
          ],
          "carpet": [
           {
            "aaxis": {
             "endlinecolor": "#2a3f5f",
             "gridcolor": "white",
             "linecolor": "white",
             "minorgridcolor": "white",
             "startlinecolor": "#2a3f5f"
            },
            "baxis": {
             "endlinecolor": "#2a3f5f",
             "gridcolor": "white",
             "linecolor": "white",
             "minorgridcolor": "white",
             "startlinecolor": "#2a3f5f"
            },
            "type": "carpet"
           }
          ],
          "choropleth": [
           {
            "colorbar": {
             "outlinewidth": 0,
             "ticks": ""
            },
            "type": "choropleth"
           }
          ],
          "contour": [
           {
            "colorbar": {
             "outlinewidth": 0,
             "ticks": ""
            },
            "colorscale": [
             [
              0,
              "#0d0887"
             ],
             [
              0.1111111111111111,
              "#46039f"
             ],
             [
              0.2222222222222222,
              "#7201a8"
             ],
             [
              0.3333333333333333,
              "#9c179e"
             ],
             [
              0.4444444444444444,
              "#bd3786"
             ],
             [
              0.5555555555555556,
              "#d8576b"
             ],
             [
              0.6666666666666666,
              "#ed7953"
             ],
             [
              0.7777777777777778,
              "#fb9f3a"
             ],
             [
              0.8888888888888888,
              "#fdca26"
             ],
             [
              1,
              "#f0f921"
             ]
            ],
            "type": "contour"
           }
          ],
          "contourcarpet": [
           {
            "colorbar": {
             "outlinewidth": 0,
             "ticks": ""
            },
            "type": "contourcarpet"
           }
          ],
          "heatmap": [
           {
            "colorbar": {
             "outlinewidth": 0,
             "ticks": ""
            },
            "colorscale": [
             [
              0,
              "#0d0887"
             ],
             [
              0.1111111111111111,
              "#46039f"
             ],
             [
              0.2222222222222222,
              "#7201a8"
             ],
             [
              0.3333333333333333,
              "#9c179e"
             ],
             [
              0.4444444444444444,
              "#bd3786"
             ],
             [
              0.5555555555555556,
              "#d8576b"
             ],
             [
              0.6666666666666666,
              "#ed7953"
             ],
             [
              0.7777777777777778,
              "#fb9f3a"
             ],
             [
              0.8888888888888888,
              "#fdca26"
             ],
             [
              1,
              "#f0f921"
             ]
            ],
            "type": "heatmap"
           }
          ],
          "heatmapgl": [
           {
            "colorbar": {
             "outlinewidth": 0,
             "ticks": ""
            },
            "colorscale": [
             [
              0,
              "#0d0887"
             ],
             [
              0.1111111111111111,
              "#46039f"
             ],
             [
              0.2222222222222222,
              "#7201a8"
             ],
             [
              0.3333333333333333,
              "#9c179e"
             ],
             [
              0.4444444444444444,
              "#bd3786"
             ],
             [
              0.5555555555555556,
              "#d8576b"
             ],
             [
              0.6666666666666666,
              "#ed7953"
             ],
             [
              0.7777777777777778,
              "#fb9f3a"
             ],
             [
              0.8888888888888888,
              "#fdca26"
             ],
             [
              1,
              "#f0f921"
             ]
            ],
            "type": "heatmapgl"
           }
          ],
          "histogram": [
           {
            "marker": {
             "pattern": {
              "fillmode": "overlay",
              "size": 10,
              "solidity": 0.2
             }
            },
            "type": "histogram"
           }
          ],
          "histogram2d": [
           {
            "colorbar": {
             "outlinewidth": 0,
             "ticks": ""
            },
            "colorscale": [
             [
              0,
              "#0d0887"
             ],
             [
              0.1111111111111111,
              "#46039f"
             ],
             [
              0.2222222222222222,
              "#7201a8"
             ],
             [
              0.3333333333333333,
              "#9c179e"
             ],
             [
              0.4444444444444444,
              "#bd3786"
             ],
             [
              0.5555555555555556,
              "#d8576b"
             ],
             [
              0.6666666666666666,
              "#ed7953"
             ],
             [
              0.7777777777777778,
              "#fb9f3a"
             ],
             [
              0.8888888888888888,
              "#fdca26"
             ],
             [
              1,
              "#f0f921"
             ]
            ],
            "type": "histogram2d"
           }
          ],
          "histogram2dcontour": [
           {
            "colorbar": {
             "outlinewidth": 0,
             "ticks": ""
            },
            "colorscale": [
             [
              0,
              "#0d0887"
             ],
             [
              0.1111111111111111,
              "#46039f"
             ],
             [
              0.2222222222222222,
              "#7201a8"
             ],
             [
              0.3333333333333333,
              "#9c179e"
             ],
             [
              0.4444444444444444,
              "#bd3786"
             ],
             [
              0.5555555555555556,
              "#d8576b"
             ],
             [
              0.6666666666666666,
              "#ed7953"
             ],
             [
              0.7777777777777778,
              "#fb9f3a"
             ],
             [
              0.8888888888888888,
              "#fdca26"
             ],
             [
              1,
              "#f0f921"
             ]
            ],
            "type": "histogram2dcontour"
           }
          ],
          "mesh3d": [
           {
            "colorbar": {
             "outlinewidth": 0,
             "ticks": ""
            },
            "type": "mesh3d"
           }
          ],
          "parcoords": [
           {
            "line": {
             "colorbar": {
              "outlinewidth": 0,
              "ticks": ""
             }
            },
            "type": "parcoords"
           }
          ],
          "pie": [
           {
            "automargin": true,
            "type": "pie"
           }
          ],
          "scatter": [
           {
            "fillpattern": {
             "fillmode": "overlay",
             "size": 10,
             "solidity": 0.2
            },
            "type": "scatter"
           }
          ],
          "scatter3d": [
           {
            "line": {
             "colorbar": {
              "outlinewidth": 0,
              "ticks": ""
             }
            },
            "marker": {
             "colorbar": {
              "outlinewidth": 0,
              "ticks": ""
             }
            },
            "type": "scatter3d"
           }
          ],
          "scattercarpet": [
           {
            "marker": {
             "colorbar": {
              "outlinewidth": 0,
              "ticks": ""
             }
            },
            "type": "scattercarpet"
           }
          ],
          "scattergeo": [
           {
            "marker": {
             "colorbar": {
              "outlinewidth": 0,
              "ticks": ""
             }
            },
            "type": "scattergeo"
           }
          ],
          "scattergl": [
           {
            "marker": {
             "colorbar": {
              "outlinewidth": 0,
              "ticks": ""
             }
            },
            "type": "scattergl"
           }
          ],
          "scattermapbox": [
           {
            "marker": {
             "colorbar": {
              "outlinewidth": 0,
              "ticks": ""
             }
            },
            "type": "scattermapbox"
           }
          ],
          "scatterpolar": [
           {
            "marker": {
             "colorbar": {
              "outlinewidth": 0,
              "ticks": ""
             }
            },
            "type": "scatterpolar"
           }
          ],
          "scatterpolargl": [
           {
            "marker": {
             "colorbar": {
              "outlinewidth": 0,
              "ticks": ""
             }
            },
            "type": "scatterpolargl"
           }
          ],
          "scatterternary": [
           {
            "marker": {
             "colorbar": {
              "outlinewidth": 0,
              "ticks": ""
             }
            },
            "type": "scatterternary"
           }
          ],
          "surface": [
           {
            "colorbar": {
             "outlinewidth": 0,
             "ticks": ""
            },
            "colorscale": [
             [
              0,
              "#0d0887"
             ],
             [
              0.1111111111111111,
              "#46039f"
             ],
             [
              0.2222222222222222,
              "#7201a8"
             ],
             [
              0.3333333333333333,
              "#9c179e"
             ],
             [
              0.4444444444444444,
              "#bd3786"
             ],
             [
              0.5555555555555556,
              "#d8576b"
             ],
             [
              0.6666666666666666,
              "#ed7953"
             ],
             [
              0.7777777777777778,
              "#fb9f3a"
             ],
             [
              0.8888888888888888,
              "#fdca26"
             ],
             [
              1,
              "#f0f921"
             ]
            ],
            "type": "surface"
           }
          ],
          "table": [
           {
            "cells": {
             "fill": {
              "color": "#EBF0F8"
             },
             "line": {
              "color": "white"
             }
            },
            "header": {
             "fill": {
              "color": "#C8D4E3"
             },
             "line": {
              "color": "white"
             }
            },
            "type": "table"
           }
          ]
         },
         "layout": {
          "annotationdefaults": {
           "arrowcolor": "#2a3f5f",
           "arrowhead": 0,
           "arrowwidth": 1
          },
          "autotypenumbers": "strict",
          "coloraxis": {
           "colorbar": {
            "outlinewidth": 0,
            "ticks": ""
           }
          },
          "colorscale": {
           "diverging": [
            [
             0,
             "#8e0152"
            ],
            [
             0.1,
             "#c51b7d"
            ],
            [
             0.2,
             "#de77ae"
            ],
            [
             0.3,
             "#f1b6da"
            ],
            [
             0.4,
             "#fde0ef"
            ],
            [
             0.5,
             "#f7f7f7"
            ],
            [
             0.6,
             "#e6f5d0"
            ],
            [
             0.7,
             "#b8e186"
            ],
            [
             0.8,
             "#7fbc41"
            ],
            [
             0.9,
             "#4d9221"
            ],
            [
             1,
             "#276419"
            ]
           ],
           "sequential": [
            [
             0,
             "#0d0887"
            ],
            [
             0.1111111111111111,
             "#46039f"
            ],
            [
             0.2222222222222222,
             "#7201a8"
            ],
            [
             0.3333333333333333,
             "#9c179e"
            ],
            [
             0.4444444444444444,
             "#bd3786"
            ],
            [
             0.5555555555555556,
             "#d8576b"
            ],
            [
             0.6666666666666666,
             "#ed7953"
            ],
            [
             0.7777777777777778,
             "#fb9f3a"
            ],
            [
             0.8888888888888888,
             "#fdca26"
            ],
            [
             1,
             "#f0f921"
            ]
           ],
           "sequentialminus": [
            [
             0,
             "#0d0887"
            ],
            [
             0.1111111111111111,
             "#46039f"
            ],
            [
             0.2222222222222222,
             "#7201a8"
            ],
            [
             0.3333333333333333,
             "#9c179e"
            ],
            [
             0.4444444444444444,
             "#bd3786"
            ],
            [
             0.5555555555555556,
             "#d8576b"
            ],
            [
             0.6666666666666666,
             "#ed7953"
            ],
            [
             0.7777777777777778,
             "#fb9f3a"
            ],
            [
             0.8888888888888888,
             "#fdca26"
            ],
            [
             1,
             "#f0f921"
            ]
           ]
          },
          "colorway": [
           "#636efa",
           "#EF553B",
           "#00cc96",
           "#ab63fa",
           "#FFA15A",
           "#19d3f3",
           "#FF6692",
           "#B6E880",
           "#FF97FF",
           "#FECB52"
          ],
          "font": {
           "color": "#2a3f5f"
          },
          "geo": {
           "bgcolor": "white",
           "lakecolor": "white",
           "landcolor": "#E5ECF6",
           "showlakes": true,
           "showland": true,
           "subunitcolor": "white"
          },
          "hoverlabel": {
           "align": "left"
          },
          "hovermode": "closest",
          "mapbox": {
           "style": "light"
          },
          "paper_bgcolor": "white",
          "plot_bgcolor": "#E5ECF6",
          "polar": {
           "angularaxis": {
            "gridcolor": "white",
            "linecolor": "white",
            "ticks": ""
           },
           "bgcolor": "#E5ECF6",
           "radialaxis": {
            "gridcolor": "white",
            "linecolor": "white",
            "ticks": ""
           }
          },
          "scene": {
           "xaxis": {
            "backgroundcolor": "#E5ECF6",
            "gridcolor": "white",
            "gridwidth": 2,
            "linecolor": "white",
            "showbackground": true,
            "ticks": "",
            "zerolinecolor": "white"
           },
           "yaxis": {
            "backgroundcolor": "#E5ECF6",
            "gridcolor": "white",
            "gridwidth": 2,
            "linecolor": "white",
            "showbackground": true,
            "ticks": "",
            "zerolinecolor": "white"
           },
           "zaxis": {
            "backgroundcolor": "#E5ECF6",
            "gridcolor": "white",
            "gridwidth": 2,
            "linecolor": "white",
            "showbackground": true,
            "ticks": "",
            "zerolinecolor": "white"
           }
          },
          "shapedefaults": {
           "line": {
            "color": "#2a3f5f"
           }
          },
          "ternary": {
           "aaxis": {
            "gridcolor": "white",
            "linecolor": "white",
            "ticks": ""
           },
           "baxis": {
            "gridcolor": "white",
            "linecolor": "white",
            "ticks": ""
           },
           "bgcolor": "#E5ECF6",
           "caxis": {
            "gridcolor": "white",
            "linecolor": "white",
            "ticks": ""
           }
          },
          "title": {
           "x": 0.05
          },
          "xaxis": {
           "automargin": true,
           "gridcolor": "white",
           "linecolor": "white",
           "ticks": "",
           "title": {
            "standoff": 15
           },
           "zerolinecolor": "white",
           "zerolinewidth": 2
          },
          "yaxis": {
           "automargin": true,
           "gridcolor": "white",
           "linecolor": "white",
           "ticks": "",
           "title": {
            "standoff": 15
           },
           "zerolinecolor": "white",
           "zerolinewidth": 2
          }
         }
        },
        "title": {
         "font": {
          "color": "black"
         },
         "text": "DBSCAN Clustering with PCA reduction"
        }
       }
      }
     },
     "metadata": {},
     "output_type": "display_data"
    }
   ],
   "source": [
    "# Set epsilon according to the k-distance plot\n",
    "epsilon = 0.35\n",
    "\n",
    "# Apply DBSCAN with the adjusted parameters\n",
    "db = DBSCAN(eps=epsilon, min_samples=minPts).fit(X_pca)\n",
    "\n",
    "# Visualization of the clusters in 3D\n",
    "labels = db.labels_\n",
    "unique_labels = set(labels)\n",
    "\n",
    "# Crear un mapa de colores usando la paleta Spectral\n",
    "colors = px.colors.diverging.Spectral\n",
    "\n",
    "# Crear una gráfica 3D interactiva con una leyenda personalizada\n",
    "fig = go.Figure()\n",
    "\n",
    "for label in unique_labels:\n",
    "    label_mask = (labels == label)\n",
    "    fig.add_trace(go.Scatter3d(\n",
    "        x=X_pca[label_mask, 0],\n",
    "        y=X_pca[label_mask, 1],\n",
    "        z=X_pca[label_mask, 2],\n",
    "        mode='markers',\n",
    "        marker=dict(size=5, color=colors[label % len(colors)]),\n",
    "        name=f'Cluster {label}'\n",
    "    ))\n",
    "\n",
    "fig.update_layout(\n",
    "    title='DBSCAN Clustering with PCA reduction',\n",
    "    scene=dict(\n",
    "        xaxis_title='PCA Dimension 1',\n",
    "        yaxis_title='PCA Dimension 2',\n",
    "        zaxis_title='PCA Dimension 3',\n",
    "        xaxis=dict(title_font=dict(color='black'), tickfont=dict(color='black')),\n",
    "        yaxis=dict(title_font=dict(color='black'), tickfont=dict(color='black')),\n",
    "        zaxis=dict(title_font=dict(color='black'), tickfont=dict(color='black'))\n",
    "    ),\n",
    "    margin=dict(l=0, r=0, b=0, t=40),\n",
    "    title_font=dict(color='black'),\n",
    "    font=dict(color='black'),\n",
    "    legend=dict(\n",
    "        title_font=dict(color='black'),\n",
    "        font=dict(color='black'),\n",
    "        yanchor='top',\n",
    "        y=1,\n",
    "        xanchor='left',\n",
    "        x=1.02,\n",
    "        orientation='v'  # Vertical\n",
    "    )\n",
    ")\n",
    "\n",
    "fig.show()\n"
   ]
  },
  {
   "cell_type": "markdown",
   "id": "c879b097",
   "metadata": {},
   "source": [
    "#### Using UMAP reduction"
   ]
  },
  {
   "cell_type": "code",
   "execution_count": 12,
   "id": "95b72e9f",
   "metadata": {},
   "outputs": [
    {
     "data": {
      "image/png": "[encoded data removed]",
      "text/plain": [
       "<Figure size 432x288 with 1 Axes>"
      ]
     },
     "metadata": {
      "needs_background": "light"
     },
     "output_type": "display_data"
    }
   ],
   "source": [
    "# Calculate distances to the k-th nearest neighbor\n",
    "nbrs = NearestNeighbors(n_neighbors=minPts).fit(X_umap)\n",
    "distances, indices = nbrs.kneighbors(X_umap)\n",
    "distances = np.sort(distances[:, minPts - 1], axis=0)\n",
    "\n",
    "# Plot the k-distance plot\n",
    "plt.plot(distances)\n",
    "plt.xlabel('Ordered data points')\n",
    "plt.ylabel('Distance to the {}-th nearest neighbor'.format(minPts))\n",
    "plt.title('k-Distance Plot')\n",
    "plt.show()"
   ]
  },
  {
   "cell_type": "code",
   "execution_count": 13,
   "id": "913200e9",
   "metadata": {},
   "outputs": [
    {
     "data": {
      "application/vnd.plotly.v1+json": {
       "config": {
        "plotlyServerURL": "https://plot.ly"
       },
       "data": [
        {
         "marker": {
          "color": "rgb(94,79,162)",
          "size": 5
         },
         "mode": "markers",
         "name": "Cluster 0",
         "type": "scatter3d",
         "x": [
          2.4199535846710205,
          2.5748441219329834,
          2.6976537704467773,
          2.9032137393951416,
          2.7388646602630615
         ],
         "y": [
          6.232112884521484,
          6.703531265258789,
          6.035898685455322,
          6.259226322174072,
          6.388650894165039
         ],
         "z": [
          -2.0698845386505127,
          -2.093355894088745,
          -1.8133656978607178,
          -2.25050950050354,
          -1.9785937070846558
         ]
        },
        {
         "marker": {
          "color": "rgb(50,136,189)",
          "size": 5
         },
         "mode": "markers",
         "name": "Cluster 1",
         "type": "scatter3d",
         "x": [
          2.2004494667053223,
          0.6927191615104675,
          3.0348060131073,
          3.180128574371338,
          2.3140370845794678,
          2.851137161254883,
          0.7063226103782654,
          2.61226487159729,
          2.1261556148529053,
          2.4999868869781494,
          2.392113447189331,
          0.5384456515312195,
          0.4415285587310791,
          3.1070027351379395,
          3.3566880226135254,
          0.9451169371604919,
          2.563948392868042,
          1.99986732006073,
          2.84773850440979,
          2.6022086143493652,
          0.9338670969009399,
          2.422805070877075,
          2.397911310195923,
          0.9966443181037903,
          1.1452739238739014,
          3.0471415519714355,
          3.1180076599121094,
          0.41119447350502014,
          1.9150044918060303,
          0.5137001872062683,
          0.927335798740387,
          1.511109471321106,
          0.3909522294998169,
          1.8334238529205322,
          3.3506481647491455,
          1.0380525588989258,
          2.8020713329315186,
          0.9045184850692749,
          3.1091229915618896,
          2.637467384338379,
          0.985675036907196,
          2.9089879989624023,
          2.479249954223633,
          1.0651353597640991,
          1.5930498838424683,
          1.0851614475250244,
          0.7224717736244202,
          2.8593270778656006,
          3.589064836502075,
          1.1042810678482056,
          3.3321895599365234,
          2.6402971744537354,
          3.129035234451294,
          3.4699857234954834,
          3.1955573558807373,
          1.335741400718689,
          0.6367072463035583,
          1.1770967245101929,
          3.558460235595703,
          1.211340308189392,
          3.385324478149414
         ],
         "y": [
          7.870033264160156,
          5.748981475830078,
          8.141584396362305,
          8.293096542358398,
          7.6775431632995605,
          8.061975479125977,
          6.552547454833984,
          7.383507251739502,
          7.5805745124816895,
          8.083508491516113,
          7.874349117279053,
          6.244900703430176,
          6.7092413902282715,
          8.497118949890137,
          8.743898391723633,
          7.052249431610107,
          7.557275295257568,
          7.4859137535095215,
          8.47473430633545,
          7.556205749511719,
          6.825378894805908,
          7.289522647857666,
          7.507683277130127,
          7.182891368865967,
          7.661256313323975,
          7.8327226638793945,
          7.798359394073486,
          6.624943733215332,
          7.597860813140869,
          6.1130900382995605,
          6.067748546600342,
          7.114175796508789,
          6.372551918029785,
          7.013044834136963,
          8.369000434875488,
          7.231203556060791,
          8.150440216064453,
          6.098036289215088,
          8.286460876464844,
          7.723297595977783,
          7.110169410705566,
          7.873933792114258,
          8.057905197143555,
          7.490509033203125,
          7.416797161102295,
          7.493659973144531,
          6.8853960037231445,
          8.20293140411377,
          8.138710021972656,
          6.620704650878906,
          8.193890571594238,
          7.747013092041016,
          8.305974006652832,
          8.560044288635254,
          8.815467834472656,
          5.88114070892334,
          6.641027927398682,
          5.9188551902771,
          7.6377787590026855,
          5.892636775970459,
          8.003852844238281
         ],
         "z": [
          -2.1381802558898926,
          -1.3802417516708374,
          -1.4016939401626587,
          -1.2278790473937988,
          -0.46514517068862915,
          -2.279062271118164,
          -2.0508079528808594,
          -1.6280227899551392,
          -0.5373295545578003,
          -0.7432445287704468,
          -0.7303802371025085,
          -1.3892778158187866,
          -1.4488240480422974,
          -0.9720327854156494,
          -1.1469095945358276,
          -0.953508734703064,
          -0.9243707656860352,
          -1.5047240257263184,
          -0.8801095485687256,
          -2.4457807540893555,
          -1.5664772987365723,
          -1.2768524885177612,
          -2.3659427165985107,
          -1.8270447254180908,
          -1.240288257598877,
          -2.065640926361084,
          -1.399465560913086,
          -1.482472538948059,
          -1.2748790979385376,
          -1.9325789213180542,
          -2.2128281593322754,
          -1.6213854551315308,
          -1.7229011058807373,
          -1.5839688777923584,
          -0.9597616195678711,
          -1.5957833528518677,
          -1.0220283269882202,
          -2.2313897609710693,
          -1.9483932256698608,
          -1.340362787246704,
          -1.2512190341949463,
          -1.8370649814605713,
          -0.4715879261493683,
          -1.0625040531158447,
          -1.4390560388565063,
          -1.4449446201324463,
          -1.07378089427948,
          -0.6279621124267578,
          -1.2919087409973145,
          -1.9878697395324707,
          -0.8388647437095642,
          -2.1903867721557617,
          -1.7192566394805908,
          -1.2293825149536133,
          -1.0239237546920776,
          -1.7820967435836792,
          -0.8708308935165405,
          -2.501182794570923,
          -1.4279303550720215,
          -2.182443618774414,
          -1.0470399856567383
         ]
        },
        {
         "marker": {
          "color": "rgb(102,194,165)",
          "size": 5
         },
         "mode": "markers",
         "name": "Cluster 2",
         "type": "scatter3d",
         "x": [
          3.154538869857788,
          2.4816269874572754,
          3.479672908782959,
          3.4207468032836914,
          3.350187063217163,
          2.5761146545410156,
          2.6120269298553467,
          3.229856252670288,
          3.288900375366211,
          3.198437452316284,
          2.5910768508911133,
          2.8101484775543213,
          2.827298402786255
         ],
         "y": [
          5.379455089569092,
          5.267266273498535,
          5.477605819702148,
          5.262007713317871,
          4.906288146972656,
          4.942465305328369,
          4.590202808380127,
          5.063708305358887,
          5.3127827644348145,
          4.809481143951416,
          4.467477321624756,
          4.581759452819824,
          4.671785354614258
         ],
         "z": [
          -2.7949039936065674,
          -2.441716432571411,
          -3.1422030925750732,
          -2.997546911239624,
          -2.501372814178467,
          -2.809009075164795,
          -2.7308290004730225,
          -2.8467888832092285,
          -2.6812517642974854,
          -2.5251898765563965,
          -2.4985923767089844,
          -2.5426948070526123,
          -2.8540618419647217
         ]
        },
        {
         "marker": {
          "color": "rgb(171,221,164)",
          "size": 5
         },
         "mode": "markers",
         "name": "Cluster 3",
         "type": "scatter3d",
         "x": [
          0.7229910492897034,
          0.9344823956489563,
          0.7085534334182739,
          1.0445345640182495,
          0.8556586503982544
         ],
         "y": [
          5.331080436706543,
          4.9752326011657715,
          5.114544868469238,
          5.3639631271362305,
          5.160661697387695
         ],
         "z": [
          -1.7264623641967773,
          -1.7979602813720703,
          -1.8207594156265259,
          -1.780956506729126,
          -1.6777069568634033
         ]
        },
        {
         "marker": {
          "color": "rgb(230,245,152)",
          "size": 5
         },
         "mode": "markers",
         "name": "Cluster 4",
         "type": "scatter3d",
         "x": [
          0.9599369764328003,
          1.1648865938186646,
          0.8843580484390259,
          1.2027292251586914,
          1.2969870567321777,
          1.1155496835708618,
          0.8172479271888733
         ],
         "y": [
          5.660205364227295,
          5.391662120819092,
          5.734451770782471,
          5.838162899017334,
          5.497579574584961,
          5.740200042724609,
          5.754561901092529
         ],
         "z": [
          -0.7289323210716248,
          -1.2468281984329224,
          -0.6715646982192993,
          -0.7504386305809021,
          -0.840738832950592,
          -0.826076328754425,
          -0.7999464869499207
         ]
        },
        {
         "marker": {
          "color": "rgb(255,255,191)",
          "size": 5
         },
         "mode": "markers",
         "name": "Cluster 5",
         "type": "scatter3d",
         "x": [
          1.71376371383667,
          2.932480812072754,
          1.647647500038147,
          2.5776429176330566,
          1.9021284580230713,
          2.172010660171509,
          2.5786514282226562,
          2.423469066619873,
          2.8751163482666016,
          2.1101460456848145,
          1.9159305095672607,
          2.516813278198242,
          2.3108558654785156,
          1.932790994644165,
          3.0218703746795654
         ],
         "y": [
          5.075511455535889,
          4.991577625274658,
          5.026889324188232,
          4.4087324142456055,
          4.7287211418151855,
          5.229869842529297,
          4.894046306610107,
          4.890256881713867,
          4.570580005645752,
          5.0023932456970215,
          4.7551679611206055,
          4.383876800537109,
          4.562145709991455,
          4.881472110748291,
          4.898288726806641
         ],
         "z": [
          -3.338322162628174,
          -3.301405191421509,
          -2.9349989891052246,
          -3.3975114822387695,
          -3.4099769592285156,
          -3.1769392490386963,
          -3.3317296504974365,
          -3.58992338180542,
          -3.478322744369507,
          -3.5545907020568848,
          -3.1194050312042236,
          -3.455000162124634,
          -3.336907148361206,
          -3.653061866760254,
          -3.451385498046875
         ]
        },
        {
         "marker": {
          "color": "rgb(254,224,139)",
          "size": 5
         },
         "mode": "markers",
         "name": "Cluster 6",
         "type": "scatter3d",
         "x": [
          1.6054208278656006,
          1.2605584859848022,
          1.702273964881897,
          1.3866982460021973,
          1.2247626781463623
         ],
         "y": [
          4.545184135437012,
          5.022755146026611,
          4.511876583099365,
          4.6362714767456055,
          4.7330803871154785
         ],
         "z": [
          -2.049227476119995,
          -2.513134479522705,
          -2.007347822189331,
          -2.2467713356018066,
          -2.4338817596435547
         ]
        },
        {
         "marker": {
          "color": "rgb(253,174,97)",
          "size": 5
         },
         "mode": "markers",
         "name": "Cluster 7",
         "type": "scatter3d",
         "x": [
          3.650818109512329,
          3.5453717708587646,
          3.44289231300354,
          3.258234977722168,
          3.5627830028533936
         ],
         "y": [
          7.067887306213379,
          6.753497123718262,
          6.964926242828369,
          7.053417205810547,
          7.222469329833984
         ],
         "z": [
          -1.7837200164794922,
          -1.7498575448989868,
          -1.6151968240737915,
          -1.26076340675354,
          -1.404921531677246
         ]
        },
        {
         "marker": {
          "color": "rgb(158,1,66)",
          "size": 5
         },
         "mode": "markers",
         "name": "Cluster -1",
         "type": "scatter3d",
         "x": [
          0.8516725301742554,
          0.9176572561264038,
          2.53110933303833,
          1.996614933013916,
          2.8732385635375977,
          1.9249885082244873,
          0.8972572088241577,
          2.6186203956604004,
          3.143514394760132,
          3.5114455223083496,
          2.208529472351074,
          1.7191914319992065,
          2.4920036792755127,
          2.0841786861419678,
          1.913115382194519,
          1.9505140781402588,
          2.5347535610198975,
          2.304750680923462,
          1.653552532196045,
          0.7539060115814209,
          2.596076250076294,
          3.546586275100708,
          3.1272881031036377,
          1.8528270721435547,
          2.223872184753418,
          1.4753475189208984,
          2.6767711639404297,
          2.6266541481018066,
          2.699242353439331,
          2.1573362350463867,
          2.122000217437744,
          1.5905954837799072
         ],
         "y": [
          6.413111686706543,
          5.824659824371338,
          5.506735801696777,
          5.621651649475098,
          5.975824356079102,
          7.962471961975098,
          5.145707607269287,
          7.069021701812744,
          6.716850757598877,
          6.559698104858398,
          6.159528732299805,
          7.2277679443359375,
          6.9792914390563965,
          6.339550495147705,
          7.383331775665283,
          5.953279495239258,
          4.726845741271973,
          5.748359680175781,
          4.719511032104492,
          6.269588947296143,
          6.242550373077393,
          6.078863620758057,
          5.7645955085754395,
          6.398689270019531,
          5.817634105682373,
          6.63292121887207,
          6.045429706573486,
          4.843253135681152,
          6.622281551361084,
          5.912649631500244,
          5.90747594833374,
          6.257867336273193
         ],
         "z": [
          -0.7102407813072205,
          -1.316785216331482,
          -3.0855493545532227,
          -2.7846856117248535,
          -2.6372146606445312,
          -1.979897379875183,
          -2.3541321754455566,
          -2.1358392238616943,
          -2.307983160018921,
          -2.2861883640289307,
          -3.020000457763672,
          -0.7631251811981201,
          -0.8574777245521545,
          -2.6977357864379883,
          -0.8108793497085571,
          -2.505223274230957,
          -1.9275847673416138,
          -3.3620476722717285,
          -1.7338966131210327,
          -0.7284225225448608,
          -1.360470175743103,
          -2.557598829269409,
          -3.207886219024658,
          -1.7014528512954712,
          -1.287412166595459,
          -1.9213989973068237,
          -3.220884323120117,
          -1.7839417457580566,
          -3.097731828689575,
          -1.2015115022659302,
          -1.0959162712097168,
          -2.2198870182037354
         ]
        }
       ],
       "layout": {
        "font": {
         "color": "black"
        },
        "legend": {
         "font": {
          "color": "black"
         },
         "orientation": "v",
         "title": {
          "font": {
           "color": "black"
          }
         },
         "x": 1.02,
         "xanchor": "left",
         "y": 1,
         "yanchor": "top"
        },
        "margin": {
         "b": 0,
         "l": 0,
         "r": 0,
         "t": 40
        },
        "scene": {
         "xaxis": {
          "tickfont": {
           "color": "black"
          },
          "title": {
           "font": {
            "color": "black"
           },
           "text": "UMAP Dimension 1"
          }
         },
         "yaxis": {
          "tickfont": {
           "color": "black"
          },
          "title": {
           "font": {
            "color": "black"
           },
           "text": "UMAP Dimension 2"
          }
         },
         "zaxis": {
          "tickfont": {
           "color": "black"
          },
          "title": {
           "font": {
            "color": "black"
           },
           "text": "UMAP Dimension 3"
          }
         }
        },
        "template": {
         "data": {
          "bar": [
           {
            "error_x": {
             "color": "#2a3f5f"
            },
            "error_y": {
             "color": "#2a3f5f"
            },
            "marker": {
             "line": {
              "color": "#E5ECF6",
              "width": 0.5
             },
             "pattern": {
              "fillmode": "overlay",
              "size": 10,
              "solidity": 0.2
             }
            },
            "type": "bar"
           }
          ],
          "barpolar": [
           {
            "marker": {
             "line": {
              "color": "#E5ECF6",
              "width": 0.5
             },
             "pattern": {
              "fillmode": "overlay",
              "size": 10,
              "solidity": 0.2
             }
            },
            "type": "barpolar"
           }
          ],
          "carpet": [
           {
            "aaxis": {
             "endlinecolor": "#2a3f5f",
             "gridcolor": "white",
             "linecolor": "white",
             "minorgridcolor": "white",
             "startlinecolor": "#2a3f5f"
            },
            "baxis": {
             "endlinecolor": "#2a3f5f",
             "gridcolor": "white",
             "linecolor": "white",
             "minorgridcolor": "white",
             "startlinecolor": "#2a3f5f"
            },
            "type": "carpet"
           }
          ],
          "choropleth": [
           {
            "colorbar": {
             "outlinewidth": 0,
             "ticks": ""
            },
            "type": "choropleth"
           }
          ],
          "contour": [
           {
            "colorbar": {
             "outlinewidth": 0,
             "ticks": ""
            },
            "colorscale": [
             [
              0,
              "#0d0887"
             ],
             [
              0.1111111111111111,
              "#46039f"
             ],
             [
              0.2222222222222222,
              "#7201a8"
             ],
             [
              0.3333333333333333,
              "#9c179e"
             ],
             [
              0.4444444444444444,
              "#bd3786"
             ],
             [
              0.5555555555555556,
              "#d8576b"
             ],
             [
              0.6666666666666666,
              "#ed7953"
             ],
             [
              0.7777777777777778,
              "#fb9f3a"
             ],
             [
              0.8888888888888888,
              "#fdca26"
             ],
             [
              1,
              "#f0f921"
             ]
            ],
            "type": "contour"
           }
          ],
          "contourcarpet": [
           {
            "colorbar": {
             "outlinewidth": 0,
             "ticks": ""
            },
            "type": "contourcarpet"
           }
          ],
          "heatmap": [
           {
            "colorbar": {
             "outlinewidth": 0,
             "ticks": ""
            },
            "colorscale": [
             [
              0,
              "#0d0887"
             ],
             [
              0.1111111111111111,
              "#46039f"
             ],
             [
              0.2222222222222222,
              "#7201a8"
             ],
             [
              0.3333333333333333,
              "#9c179e"
             ],
             [
              0.4444444444444444,
              "#bd3786"
             ],
             [
              0.5555555555555556,
              "#d8576b"
             ],
             [
              0.6666666666666666,
              "#ed7953"
             ],
             [
              0.7777777777777778,
              "#fb9f3a"
             ],
             [
              0.8888888888888888,
              "#fdca26"
             ],
             [
              1,
              "#f0f921"
             ]
            ],
            "type": "heatmap"
           }
          ],
          "heatmapgl": [
           {
            "colorbar": {
             "outlinewidth": 0,
             "ticks": ""
            },
            "colorscale": [
             [
              0,
              "#0d0887"
             ],
             [
              0.1111111111111111,
              "#46039f"
             ],
             [
              0.2222222222222222,
              "#7201a8"
             ],
             [
              0.3333333333333333,
              "#9c179e"
             ],
             [
              0.4444444444444444,
              "#bd3786"
             ],
             [
              0.5555555555555556,
              "#d8576b"
             ],
             [
              0.6666666666666666,
              "#ed7953"
             ],
             [
              0.7777777777777778,
              "#fb9f3a"
             ],
             [
              0.8888888888888888,
              "#fdca26"
             ],
             [
              1,
              "#f0f921"
             ]
            ],
            "type": "heatmapgl"
           }
          ],
          "histogram": [
           {
            "marker": {
             "pattern": {
              "fillmode": "overlay",
              "size": 10,
              "solidity": 0.2
             }
            },
            "type": "histogram"
           }
          ],
          "histogram2d": [
           {
            "colorbar": {
             "outlinewidth": 0,
             "ticks": ""
            },
            "colorscale": [
             [
              0,
              "#0d0887"
             ],
             [
              0.1111111111111111,
              "#46039f"
             ],
             [
              0.2222222222222222,
              "#7201a8"
             ],
             [
              0.3333333333333333,
              "#9c179e"
             ],
             [
              0.4444444444444444,
              "#bd3786"
             ],
             [
              0.5555555555555556,
              "#d8576b"
             ],
             [
              0.6666666666666666,
              "#ed7953"
             ],
             [
              0.7777777777777778,
              "#fb9f3a"
             ],
             [
              0.8888888888888888,
              "#fdca26"
             ],
             [
              1,
              "#f0f921"
             ]
            ],
            "type": "histogram2d"
           }
          ],
          "histogram2dcontour": [
           {
            "colorbar": {
             "outlinewidth": 0,
             "ticks": ""
            },
            "colorscale": [
             [
              0,
              "#0d0887"
             ],
             [
              0.1111111111111111,
              "#46039f"
             ],
             [
              0.2222222222222222,
              "#7201a8"
             ],
             [
              0.3333333333333333,
              "#9c179e"
             ],
             [
              0.4444444444444444,
              "#bd3786"
             ],
             [
              0.5555555555555556,
              "#d8576b"
             ],
             [
              0.6666666666666666,
              "#ed7953"
             ],
             [
              0.7777777777777778,
              "#fb9f3a"
             ],
             [
              0.8888888888888888,
              "#fdca26"
             ],
             [
              1,
              "#f0f921"
             ]
            ],
            "type": "histogram2dcontour"
           }
          ],
          "mesh3d": [
           {
            "colorbar": {
             "outlinewidth": 0,
             "ticks": ""
            },
            "type": "mesh3d"
           }
          ],
          "parcoords": [
           {
            "line": {
             "colorbar": {
              "outlinewidth": 0,
              "ticks": ""
             }
            },
            "type": "parcoords"
           }
          ],
          "pie": [
           {
            "automargin": true,
            "type": "pie"
           }
          ],
          "scatter": [
           {
            "fillpattern": {
             "fillmode": "overlay",
             "size": 10,
             "solidity": 0.2
            },
            "type": "scatter"
           }
          ],
          "scatter3d": [
           {
            "line": {
             "colorbar": {
              "outlinewidth": 0,
              "ticks": ""
             }
            },
            "marker": {
             "colorbar": {
              "outlinewidth": 0,
              "ticks": ""
             }
            },
            "type": "scatter3d"
           }
          ],
          "scattercarpet": [
           {
            "marker": {
             "colorbar": {
              "outlinewidth": 0,
              "ticks": ""
             }
            },
            "type": "scattercarpet"
           }
          ],
          "scattergeo": [
           {
            "marker": {
             "colorbar": {
              "outlinewidth": 0,
              "ticks": ""
             }
            },
            "type": "scattergeo"
           }
          ],
          "scattergl": [
           {
            "marker": {
             "colorbar": {
              "outlinewidth": 0,
              "ticks": ""
             }
            },
            "type": "scattergl"
           }
          ],
          "scattermapbox": [
           {
            "marker": {
             "colorbar": {
              "outlinewidth": 0,
              "ticks": ""
             }
            },
            "type": "scattermapbox"
           }
          ],
          "scatterpolar": [
           {
            "marker": {
             "colorbar": {
              "outlinewidth": 0,
              "ticks": ""
             }
            },
            "type": "scatterpolar"
           }
          ],
          "scatterpolargl": [
           {
            "marker": {
             "colorbar": {
              "outlinewidth": 0,
              "ticks": ""
             }
            },
            "type": "scatterpolargl"
           }
          ],
          "scatterternary": [
           {
            "marker": {
             "colorbar": {
              "outlinewidth": 0,
              "ticks": ""
             }
            },
            "type": "scatterternary"
           }
          ],
          "surface": [
           {
            "colorbar": {
             "outlinewidth": 0,
             "ticks": ""
            },
            "colorscale": [
             [
              0,
              "#0d0887"
             ],
             [
              0.1111111111111111,
              "#46039f"
             ],
             [
              0.2222222222222222,
              "#7201a8"
             ],
             [
              0.3333333333333333,
              "#9c179e"
             ],
             [
              0.4444444444444444,
              "#bd3786"
             ],
             [
              0.5555555555555556,
              "#d8576b"
             ],
             [
              0.6666666666666666,
              "#ed7953"
             ],
             [
              0.7777777777777778,
              "#fb9f3a"
             ],
             [
              0.8888888888888888,
              "#fdca26"
             ],
             [
              1,
              "#f0f921"
             ]
            ],
            "type": "surface"
           }
          ],
          "table": [
           {
            "cells": {
             "fill": {
              "color": "#EBF0F8"
             },
             "line": {
              "color": "white"
             }
            },
            "header": {
             "fill": {
              "color": "#C8D4E3"
             },
             "line": {
              "color": "white"
             }
            },
            "type": "table"
           }
          ]
         },
         "layout": {
          "annotationdefaults": {
           "arrowcolor": "#2a3f5f",
           "arrowhead": 0,
           "arrowwidth": 1
          },
          "autotypenumbers": "strict",
          "coloraxis": {
           "colorbar": {
            "outlinewidth": 0,
            "ticks": ""
           }
          },
          "colorscale": {
           "diverging": [
            [
             0,
             "#8e0152"
            ],
            [
             0.1,
             "#c51b7d"
            ],
            [
             0.2,
             "#de77ae"
            ],
            [
             0.3,
             "#f1b6da"
            ],
            [
             0.4,
             "#fde0ef"
            ],
            [
             0.5,
             "#f7f7f7"
            ],
            [
             0.6,
             "#e6f5d0"
            ],
            [
             0.7,
             "#b8e186"
            ],
            [
             0.8,
             "#7fbc41"
            ],
            [
             0.9,
             "#4d9221"
            ],
            [
             1,
             "#276419"
            ]
           ],
           "sequential": [
            [
             0,
             "#0d0887"
            ],
            [
             0.1111111111111111,
             "#46039f"
            ],
            [
             0.2222222222222222,
             "#7201a8"
            ],
            [
             0.3333333333333333,
             "#9c179e"
            ],
            [
             0.4444444444444444,
             "#bd3786"
            ],
            [
             0.5555555555555556,
             "#d8576b"
            ],
            [
             0.6666666666666666,
             "#ed7953"
            ],
            [
             0.7777777777777778,
             "#fb9f3a"
            ],
            [
             0.8888888888888888,
             "#fdca26"
            ],
            [
             1,
             "#f0f921"
            ]
           ],
           "sequentialminus": [
            [
             0,
             "#0d0887"
            ],
            [
             0.1111111111111111,
             "#46039f"
            ],
            [
             0.2222222222222222,
             "#7201a8"
            ],
            [
             0.3333333333333333,
             "#9c179e"
            ],
            [
             0.4444444444444444,
             "#bd3786"
            ],
            [
             0.5555555555555556,
             "#d8576b"
            ],
            [
             0.6666666666666666,
             "#ed7953"
            ],
            [
             0.7777777777777778,
             "#fb9f3a"
            ],
            [
             0.8888888888888888,
             "#fdca26"
            ],
            [
             1,
             "#f0f921"
            ]
           ]
          },
          "colorway": [
           "#636efa",
           "#EF553B",
           "#00cc96",
           "#ab63fa",
           "#FFA15A",
           "#19d3f3",
           "#FF6692",
           "#B6E880",
           "#FF97FF",
           "#FECB52"
          ],
          "font": {
           "color": "#2a3f5f"
          },
          "geo": {
           "bgcolor": "white",
           "lakecolor": "white",
           "landcolor": "#E5ECF6",
           "showlakes": true,
           "showland": true,
           "subunitcolor": "white"
          },
          "hoverlabel": {
           "align": "left"
          },
          "hovermode": "closest",
          "mapbox": {
           "style": "light"
          },
          "paper_bgcolor": "white",
          "plot_bgcolor": "#E5ECF6",
          "polar": {
           "angularaxis": {
            "gridcolor": "white",
            "linecolor": "white",
            "ticks": ""
           },
           "bgcolor": "#E5ECF6",
           "radialaxis": {
            "gridcolor": "white",
            "linecolor": "white",
            "ticks": ""
           }
          },
          "scene": {
           "xaxis": {
            "backgroundcolor": "#E5ECF6",
            "gridcolor": "white",
            "gridwidth": 2,
            "linecolor": "white",
            "showbackground": true,
            "ticks": "",
            "zerolinecolor": "white"
           },
           "yaxis": {
            "backgroundcolor": "#E5ECF6",
            "gridcolor": "white",
            "gridwidth": 2,
            "linecolor": "white",
            "showbackground": true,
            "ticks": "",
            "zerolinecolor": "white"
           },
           "zaxis": {
            "backgroundcolor": "#E5ECF6",
            "gridcolor": "white",
            "gridwidth": 2,
            "linecolor": "white",
            "showbackground": true,
            "ticks": "",
            "zerolinecolor": "white"
           }
          },
          "shapedefaults": {
           "line": {
            "color": "#2a3f5f"
           }
          },
          "ternary": {
           "aaxis": {
            "gridcolor": "white",
            "linecolor": "white",
            "ticks": ""
           },
           "baxis": {
            "gridcolor": "white",
            "linecolor": "white",
            "ticks": ""
           },
           "bgcolor": "#E5ECF6",
           "caxis": {
            "gridcolor": "white",
            "linecolor": "white",
            "ticks": ""
           }
          },
          "title": {
           "x": 0.05
          },
          "xaxis": {
           "automargin": true,
           "gridcolor": "white",
           "linecolor": "white",
           "ticks": "",
           "title": {
            "standoff": 15
           },
           "zerolinecolor": "white",
           "zerolinewidth": 2
          },
          "yaxis": {
           "automargin": true,
           "gridcolor": "white",
           "linecolor": "white",
           "ticks": "",
           "title": {
            "standoff": 15
           },
           "zerolinecolor": "white",
           "zerolinewidth": 2
          }
         }
        },
        "title": {
         "font": {
          "color": "black"
         },
         "text": "DBSCAN Clustering with UMAP reduction"
        }
       }
      }
     },
     "metadata": {},
     "output_type": "display_data"
    }
   ],
   "source": [
    "# Set epsilon according to the k-distance plot\n",
    "epsilon = 0.52\n",
    "\n",
    "# Apply DBSCAN with the adjusted parameters\n",
    "db = DBSCAN(eps=epsilon, min_samples=minPts).fit(X_umap)\n",
    "\n",
    "# Visualization of the clusters in 3D\n",
    "labels = db.labels_\n",
    "unique_labels = set(labels)\n",
    "\n",
    "# Crear un mapa de colores usando la paleta Spectral y cambiar el orden\n",
    "colors = px.colors.diverging.Spectral[::-1]\n",
    "\n",
    "# Crear una gráfica 3D interactiva con una leyenda personalizada\n",
    "fig = go.Figure()\n",
    "\n",
    "for label in unique_labels:\n",
    "    label_mask = (labels == label)\n",
    "    fig.add_trace(go.Scatter3d(\n",
    "        x=X_umap[label_mask, 0],\n",
    "        y=X_umap[label_mask, 1],\n",
    "        z=X_umap[label_mask, 2],\n",
    "        mode='markers',\n",
    "        marker=dict(size=5, color=colors[label % len(colors)]),\n",
    "        name=f'Cluster {label}'\n",
    "    ))\n",
    "\n",
    "fig.update_layout(\n",
    "    title='DBSCAN Clustering with UMAP reduction',\n",
    "    scene=dict(\n",
    "        xaxis_title='UMAP Dimension 1',\n",
    "        yaxis_title='UMAP Dimension 2',\n",
    "        zaxis_title='UMAP Dimension 3',\n",
    "        xaxis=dict(title_font=dict(color='black'), tickfont=dict(color='black')),\n",
    "        yaxis=dict(title_font=dict(color='black'), tickfont=dict(color='black')),\n",
    "        zaxis=dict(title_font=dict(color='black'), tickfont=dict(color='black'))\n",
    "    ),\n",
    "    margin=dict(l=0, r=0, b=0, t=40),\n",
    "    title_font=dict(color='black'),\n",
    "    font=dict(color='black'),\n",
    "    legend=dict(\n",
    "        title_font=dict(color='black'),\n",
    "        font=dict(color='black'),\n",
    "        yanchor='top',\n",
    "        y=1,\n",
    "        xanchor='left',\n",
    "        x=1.02,\n",
    "        orientation='v'  # Vertical\n",
    "    )\n",
    ")\n",
    "\n",
    "fig.show()"
   ]
  },
  {
   "cell_type": "markdown",
   "id": "e5987255",
   "metadata": {},
   "source": [
    "#### *Evaluation metrics*"
   ]
  },
  {
   "cell_type": "code",
   "execution_count": 14,
   "id": "1dbaf69c",
   "metadata": {},
   "outputs": [],
   "source": [
    "def calculate_metrics(X, max_clusters=10):\n",
    "    silhouette_scores = []\n",
    "    inertia_scores = []\n",
    "    davies_bouldin_scores = []\n",
    "    gap_statistics = []\n",
    "    reference_inertia = []\n",
    "    \n",
    "    for k in range(2, max_clusters + 1):\n",
    "        clustering = AgglomerativeClustering(n_clusters=k)\n",
    "        labels = clustering.fit_predict(X)\n",
    "        \n",
    "        # Silhouette score\n",
    "        silhouette_avg = silhouette_score(X, labels)\n",
    "        silhouette_scores.append(silhouette_avg)\n",
    "        \n",
    "        # Sum of squared distances within the cluster (inertia)\n",
    "        inertia = np.sum([np.sum(np.linalg.norm(X[labels == i] - np.mean(X[labels == i], axis=0), axis=1)**2) for i in range(k)])\n",
    "        inertia_scores.append(inertia)\n",
    "        \n",
    "        # Davies-Bouldin score\n",
    "        davies_bouldin_avg = davies_bouldin_score(X, labels)\n",
    "        davies_bouldin_scores.append(davies_bouldin_avg)\n",
    "        \n",
    "        # Gap statistic\n",
    "        ref_inertia = np.mean([np.sum([np.sum(np.linalg.norm(X[np.random.permutation(len(X))] - np.mean(X[np.random.permutation(len(X))], axis=0), axis=1)**2) for _ in range(k)]) for _ in range(10)])\n",
    "        gap_statistics.append(np.log(ref_inertia) - np.log(inertia))\n",
    "        reference_inertia.append(ref_inertia)\n",
    "        \n",
    "    return silhouette_scores, inertia_scores, davies_bouldin_scores, gap_statistics\n",
    "\n",
    "def plot_silhouette_davies_bouldin(silhouette_scores, davies_bouldin_scores, max_clusters=10):\n",
    "    clusters_range = range(2, max_clusters + 1)\n",
    "    \n",
    "    fig, ax1 = plt.subplots()\n",
    "\n",
    "    color = 'tab:blue'\n",
    "    ax1.set_xlabel('Number of clusters')\n",
    "    ax1.set_ylabel('Silhouette score', color=color)\n",
    "    ax1.plot(clusters_range, silhouette_scores, 'o-', color=color, label='Silhouette score')\n",
    "    ax1.tick_params(axis='y', labelcolor=color)\n",
    "\n",
    "    ax2 = ax1.twinx()\n",
    "    color = 'tab:red'\n",
    "    ax2.set_ylabel('Davies-Bouldin score', color=color)\n",
    "    ax2.plot(clusters_range, davies_bouldin_scores, 'o-', color=color, label='Davies-Bouldin score')\n",
    "    ax2.tick_params(axis='y', labelcolor=color)\n",
    "\n",
    "    fig.tight_layout()\n",
    "    fig.legend(loc='upper right')\n",
    "    plt.show()\n",
    "\n",
    "def plot_inertia_gap(inertia_scores, gap_statistics, max_clusters=10):\n",
    "    clusters_range = range(2, max_clusters + 1)\n",
    "    \n",
    "    fig, ax1 = plt.subplots()\n",
    "\n",
    "    color = 'tab:blue'\n",
    "    ax1.set_xlabel('Number of clusters')\n",
    "    ax1.set_ylabel('Inertia', color=color)\n",
    "    ax1.plot(clusters_range, inertia_scores, 'o-', color=color, label='Inertia')\n",
    "    ax1.tick_params(axis='y', labelcolor=color)\n",
    "\n",
    "    ax2 = ax1.twinx()\n",
    "    color = 'tab:red'\n",
    "    ax2.set_ylabel('Gap statistic', color=color)\n",
    "    ax2.plot(clusters_range, gap_statistics, 'o-', color=color, label='Gap statistic')\n",
    "    ax2.tick_params(axis='y', labelcolor=color)\n",
    "\n",
    "    fig.tight_layout()\n",
    "    fig.legend(loc='upper right')\n",
    "    plt.show()"
   ]
  },
  {
   "cell_type": "markdown",
   "id": "0d8f8481",
   "metadata": {},
   "source": [
    "#### **Hierarchical Clustering, Aglomerative clustering**"
   ]
  },
  {
   "cell_type": "markdown",
   "id": "f563b7b9",
   "metadata": {},
   "source": [
    "#### Using PCA reduction"
   ]
  },
  {
   "cell_type": "code",
   "execution_count": 15,
   "id": "04b8f563",
   "metadata": {},
   "outputs": [
    {
     "data": {
      "image/png": "[encoded data removed]",
      "text/plain": [
       "<Figure size 432x288 with 2 Axes>"
      ]
     },
     "metadata": {
      "needs_background": "light"
     },
     "output_type": "display_data"
    },
    {
     "data": {
      "image/png": "[encoded data removed]",
      "text/plain": [
       "<Figure size 432x288 with 2 Axes>"
      ]
     },
     "metadata": {
      "needs_background": "light"
     },
     "output_type": "display_data"
    }
   ],
   "source": [
    "silhouette_scores, inertia_scores, davies_bouldin_scores, gap_statistics = calculate_metrics(X_pca)\n",
    "plot_silhouette_davies_bouldin(silhouette_scores, davies_bouldin_scores)\n",
    "plot_inertia_gap(inertia_scores, gap_statistics)"
   ]
  },
  {
   "cell_type": "code",
   "execution_count": 16,
   "id": "0ef291c2",
   "metadata": {},
   "outputs": [
    {
     "data": {
      "application/vnd.plotly.v1+json": {
       "config": {
        "plotlyServerURL": "https://plot.ly"
       },
       "data": [
        {
         "hovertemplate": "color=0<br>PCA Dimension 1=%{x}<br>PCA Dimension 2=%{y}<br>PCA Dimension 3=%{z}<extra></extra>",
         "legendgroup": "0",
         "marker": {
          "color": "#636efa",
          "size": 5,
          "symbol": "circle"
         },
         "mode": "markers",
         "name": "0",
         "scene": "scene",
         "showlegend": true,
         "type": "scatter3d",
         "x": [
          0.6494082579499838,
          0.15165166975160224,
          0.4639627830508569,
          0.5054219895952353,
          -0.13057837539015363,
          0.18108883850583438,
          -0.11220833660934255,
          0.4517899804828255,
          0.7146569450858653,
          0.26920772614512206,
          0.11214000272993686,
          0.1954339547492692,
          0.28803744661031383,
          0.45211023602772693,
          0.18806877927857302,
          -0.031085866942890148,
          0.7564303955395119,
          1.0904747442265412,
          0.07863411520431116,
          0.3797621144102848,
          0.5279159962495131,
          0.24627940648809965,
          0.16902950348525006,
          0.3198130217302464,
          0.0600161676126917,
          0.4102669782693228,
          -0.02388542839514926,
          0.40287088616602545,
          0.7937016088816179,
          0.2019782476340559,
          -0.043488578527294486,
          0.40731819990622675,
          0.2722989948122193,
          0.02264181620516077,
          0.3281159781295577,
          0.26950144713509394,
          0.4627470646894092,
          0.24659047280923682,
          -0.16356976481419427,
          0.2175880593690997,
          0.6874297021849546,
          0.19842547634657925,
          0.06875612865072342,
          0.12733740744993347,
          0.16909451975540296,
          0.1061158194885218,
          0.37888532352190557,
          0.42037156836421063,
          0.6896615882453221,
          0.4151669600901864,
          0.4448928757978184,
          0.3023539092445777,
          0.48218939316145193,
          0.3779081854643887,
          0.30380823418890857,
          -0.09944600882623396,
          0.6017293731725456,
          0.7182557343581781,
          1.0351821613022447,
          0.2490252790807777,
          -0.03575564961954495,
          0.0999626174243836,
          0.20254586173214117,
          0.2447148212456019
         ],
         "y": [
          0.05503650767289872,
          -0.0900204705204267,
          -0.21613105433582736,
          -0.13304834721409972,
          -0.18490315910487173,
          -0.06397932927016518,
          -0.22226594903252833,
          -0.24580196210039557,
          0.0992007430365677,
          -0.13193606173852002,
          -0.5068793721086431,
          -0.16156426412146718,
          0.015695947008198072,
          -0.17326212828288276,
          0.0694619031947645,
          -0.2192410180680396,
          -0.27777400919830186,
          -0.15901562583661824,
          -0.16745552888100654,
          0.061308786616633276,
          -0.16256287392395713,
          -0.056900402536760396,
          -0.1838096483708842,
          0.14785182909121933,
          0.023429689040369215,
          0.0011587189011086096,
          -0.3063946123737715,
          0.4568804896809768,
          0.7714350359337511,
          0.16634587357504388,
          -0.2756066083372093,
          -0.0645116725722689,
          -0.5576229201659022,
          -0.1049196442985878,
          0.13493070033953344,
          -0.5231323721887198,
          -0.2648191735681018,
          0.44285147326779356,
          -0.15232645734188308,
          -0.19321866163275483,
          -0.4880570654371585,
          -0.012047531097014494,
          -0.2475747229180994,
          -0.43015774652756383,
          -0.2312854370310507,
          -0.278572429238959,
          -0.10111661304967748,
          -0.07051909444645728,
          0.6429509602237325,
          0.28204391254485733,
          0.4076689862450504,
          0.08167387898950496,
          -0.29544700733107865,
          -0.2728855175358285,
          -0.05189342210490503,
          -0.24746311348507705,
          -0.45363227181787213,
          -0.2717475206939898,
          -0.43302050479676657,
          -0.5681016257399808,
          -0.043900340464197544,
          -0.41953576827886657,
          -0.1525202005011735,
          -0.019334111664837193
         ],
         "z": [
          0.42932152157326386,
          0.3903224822540463,
          -0.02320621382919242,
          -0.12316421439248049,
          0.16174976648064884,
          -0.35682231291679256,
          0.20631293955243335,
          0.39724618045081334,
          0.35077730442019245,
          0.4771906730217607,
          0.13832061001412344,
          0.1735828222161775,
          -0.16604173750887652,
          -0.2732107677282037,
          -0.48736782081030505,
          0.13758307524901722,
          -0.5414305717354154,
          -0.4544224942625159,
          -0.26488114659598283,
          0.12210979268764982,
          -0.37241014245105275,
          0.25459611208953814,
          0.027709686173117053,
          -0.01972797860177499,
          -0.11258929364869953,
          0.9163112734017641,
          0.29578124180966714,
          0.46865832902333165,
          0.0714528566812526,
          -0.21474012446860036,
          0.06894603745799775,
          0.02875923224694035,
          -0.13015304892139767,
          0.18732213503660775,
          -0.19163611994710306,
          0.009696321631099503,
          -0.3348675741065779,
          0.42398967147578953,
          0.1400593925675659,
          -0.2597968158983937,
          0.3019358374169536,
          -0.06904032788629509,
          -0.044665351284888175,
          -0.01659074039590802,
          0.03457146956965485,
          -0.015923809602357685,
          0.1606199177286291,
          -0.5554437227446293,
          -0.03659786761687331,
          -0.09351432632065093,
          0.2582578895311485,
          -0.7016973822173088,
          -0.2785523370192328,
          -0.3842315062806405,
          0.287795864332201,
          0.45470833582274434,
          0.17051015010851253,
          -0.26898745412514774,
          -0.3705125895124039,
          -0.16947306478764643,
          -0.16460205942575798,
          0.6367389647820887,
          -0.17471827529713185,
          -0.16886033209251064
         ]
        },
        {
         "hovertemplate": "color=1<br>PCA Dimension 1=%{x}<br>PCA Dimension 2=%{y}<br>PCA Dimension 3=%{z}<extra></extra>",
         "legendgroup": "1",
         "marker": {
          "color": "#EF553B",
          "size": 5,
          "symbol": "circle"
         },
         "mode": "markers",
         "name": "1",
         "scene": "scene",
         "showlegend": true,
         "type": "scatter3d",
         "x": [
          -0.04851925060963691,
          -0.15145885672060405,
          -0.7730657918780762,
          0.0767993469244338,
          -0.3166913222815766,
          -0.2521007923351013,
          -0.34844486962645116,
          -0.5110581683470736,
          -0.4816156076119346,
          -0.10963023191659738,
          -0.4901335115506042,
          0.3301361758414104,
          -0.30699975357264214,
          0.05546277422905359,
          -0.23693769301918635,
          -0.46110727099229637,
          -0.016190102264539367,
          -0.12924411731721663,
          0.341137214465863,
          -0.25899059550027287,
          -0.05147927590590001,
          0.046628688245304556,
          -0.08298592600115101,
          -0.5419837427269654,
          -0.3302808844926069,
          -0.5262999649595043,
          -0.27343939905410314,
          -0.1856412576649735,
          -0.059112826495774796,
          -0.33558404914081075,
          -0.12709769480894287,
          -0.20950199950710077,
          -0.19238854880367362,
          0.18422983880689567,
          0.13958567494722732,
          0.153353103207434,
          -0.7356964163048225,
          -0.0981115681767345,
          -0.43823044105073017,
          -0.6658821323380207,
          -0.03946760769760503,
          -0.07315573127481044,
          0.24602234808049583,
          -0.0624364805365706,
          -0.1989002798094714,
          -0.219759257561523,
          0.11104747023428843,
          -0.059538462002586036,
          -0.9131583569341908,
          0.10849760509044348,
          -0.1290393437064805,
          0.017532692899403346,
          -0.26955191876348905,
          0.09687778376533171,
          0.14885811522102552,
          -0.032927087775107444,
          -0.08786513895503904,
          -0.5081885485938793
         ],
         "y": [
          -0.0202421644096617,
          0.3493396075023073,
          0.04967948603927428,
          0.36545469707041456,
          -0.052404935924209556,
          0.3729133250948455,
          -0.01935716696094755,
          0.22959460636953472,
          0.4619250057990093,
          0.12810756715558858,
          0.3268831662853758,
          0.8578491407335055,
          0.08664760181039649,
          0.6467395724137427,
          0.33642598972597576,
          0.21399772723482438,
          0.6046417072473675,
          0.07720387546333918,
          0.5610576335156338,
          0.01570620127965286,
          -0.022518183785747183,
          0.30151085609552347,
          0.05463292745508137,
          0.3385315989891264,
          0.09668984815797688,
          0.48761112485898517,
          0.029507234936926675,
          0.6135985979862753,
          0.35238518686018,
          -0.13670924842795568,
          0.5024628380144976,
          0.3579110197929607,
          0.10168541107160045,
          0.09124050459327065,
          0.899318382822462,
          0.19380901343956436,
          0.013360113161501942,
          0.9918107605272981,
          0.17526783461293458,
          0.15166856086222097,
          0.2156298606644899,
          0.12374094448681555,
          0.38720656477349535,
          0.18558303650103608,
          0.3549385295666879,
          0.8177201992015956,
          0.3045927920720617,
          0.3853917492899859,
          0.20653800842894707,
          0.16870770187255635,
          0.2802291347517095,
          0.3529479426839506,
          0.40760157654602874,
          0.2788307161553925,
          0.24475535281964847,
          0.3669583596697327,
          0.19096354140573787,
          0.4438603895650005
         ],
         "z": [
          0.25872127419988655,
          -0.1471007501875735,
          -0.03287684995653452,
          -0.19717336968768165,
          0.170277310184596,
          0.00536178495090084,
          0.1357760744980697,
          0.04328214376770628,
          -0.01630818775222472,
          -0.2289641394060953,
          0.025338411524282397,
          0.17561723419151531,
          -0.041193358130685816,
          -0.33684498260919715,
          -0.38563863895244177,
          -0.5291183270390771,
          0.10587603246806856,
          -0.3377983678283077,
          -0.20470475250994302,
          -0.5474510173264263,
          0.27857366314936854,
          0.20254762380285937,
          0.27494083921959817,
          0.06710808207487805,
          0.08982996028083308,
          -0.0014112859639607354,
          0.21401601810559934,
          0.23630619141789488,
          0.10369526856064372,
          0.14888061689300774,
          0.23494657431802426,
          -0.2592998576755692,
          -0.3354980307978263,
          0.2116776899589853,
          -0.09680317974499501,
          0.08783291180310748,
          0.227115509575796,
          0.2947572188526853,
          -0.0048392394236898995,
          -0.09058905470013924,
          -0.16548303413934617,
          0.2286442225530273,
          0.09461361844151252,
          -0.04853883548933093,
          -0.20005164036605147,
          -0.706094451416112,
          0.04353692956084654,
          0.5064011818768296,
          -0.18659302866110677,
          0.1746780453363051,
          -0.09861268023582277,
          -0.004203917118433381,
          0.4957989779762049,
          0.07137791911544236,
          0.06470994801687072,
          0.06904992006748319,
          0.20040259790780077,
          -0.016613040343831154
         ]
        },
        {
         "hovertemplate": "color=2<br>PCA Dimension 1=%{x}<br>PCA Dimension 2=%{y}<br>PCA Dimension 3=%{z}<extra></extra>",
         "legendgroup": "2",
         "marker": {
          "color": "#00cc96",
          "size": 5,
          "symbol": "circle"
         },
         "mode": "markers",
         "name": "2",
         "scene": "scene",
         "showlegend": true,
         "type": "scatter3d",
         "x": [
          -0.26043069583775946,
          -0.37492666850164247,
          0.10956771689955105,
          -0.29829213774183905,
          -0.3233852011499131,
          -0.41430774689559235,
          -0.29444071029653346,
          -0.48229883780405663,
          -0.34713458334523906,
          -0.7076321669089621,
          -0.28347511132891096,
          -0.5364834463044093,
          -0.6270833221586491,
          -0.3677116159454916,
          -0.4292913762448299,
          -0.07029660704426059,
          -0.1838015509298477,
          -0.40093007076141357,
          -0.3530740258223574,
          -0.43875756161886476,
          -0.46192115351544916,
          -0.7204641000453992,
          -0.4326199241659483,
          -0.29289732475230795,
          -0.41962235550023347,
          -0.2753147377144424
         ],
         "y": [
          -0.4289507549402878,
          -0.8597930500044142,
          -0.7071579659391075,
          -0.5799989627858567,
          -0.47043748975775085,
          -0.48564066261274663,
          -0.37488463270835476,
          -0.1771172760962604,
          -0.31042738960679145,
          -0.2437548305843655,
          -0.17707938759839806,
          -0.3035906872686733,
          -0.44282966093091286,
          -0.2243397145370735,
          -0.5399066746115756,
          -0.6489821055823398,
          -0.6692039424910964,
          -0.1575118566758766,
          -0.2125516262049827,
          -0.04385908507740043,
          -0.2661576937916877,
          -0.2646961877100163,
          -0.24399461038638412,
          -0.32755197625436355,
          -0.39844298605846956,
          -0.31528227978718915
         ],
         "z": [
          0.2782581814383322,
          0.045088247063308225,
          0.14842647308148207,
          0.16586842560506332,
          -0.08728935898839532,
          -0.11207809397560503,
          0.08819001924472593,
          0.036301596194509955,
          0.06447567327475051,
          -0.20946437981362367,
          -0.2526958795977589,
          0.08211655289001402,
          -0.099553527425019,
          -0.19218741834062136,
          -0.06973107413432816,
          0.14250729988875036,
          0.42041394169540136,
          -0.10650953636539653,
          -0.26631269902131405,
          0.0711335967023393,
          -0.0648894129342187,
          -0.2778583511728464,
          -0.29416966603354466,
          -0.10189475444588916,
          0.009121204265711592,
          -0.08221319865805127
         ]
        }
       ],
       "layout": {
        "font": {
         "color": "black"
        },
        "legend": {
         "font": {
          "color": "black"
         },
         "orientation": "v",
         "title": {
          "font": {
           "color": "black"
          },
          "text": "color"
         },
         "tracegroupgap": 0,
         "x": 1.02,
         "xanchor": "left",
         "y": 1,
         "yanchor": "top"
        },
        "margin": {
         "b": 0,
         "l": 0,
         "r": 0,
         "t": 40
        },
        "scene": {
         "domain": {
          "x": [
           0,
           1
          ],
          "y": [
           0,
           1
          ]
         },
         "xaxis": {
          "tickfont": {
           "color": "black"
          },
          "title": {
           "font": {
            "color": "black"
           },
           "text": "PCA Dimension 1"
          }
         },
         "yaxis": {
          "tickfont": {
           "color": "black"
          },
          "title": {
           "font": {
            "color": "black"
           },
           "text": "PCA Dimension 2"
          }
         },
         "zaxis": {
          "tickfont": {
           "color": "black"
          },
          "title": {
           "font": {
            "color": "black"
           },
           "text": "PCA Dimension 3"
          }
         }
        },
        "template": {
         "data": {
          "bar": [
           {
            "error_x": {
             "color": "#2a3f5f"
            },
            "error_y": {
             "color": "#2a3f5f"
            },
            "marker": {
             "line": {
              "color": "#E5ECF6",
              "width": 0.5
             },
             "pattern": {
              "fillmode": "overlay",
              "size": 10,
              "solidity": 0.2
             }
            },
            "type": "bar"
           }
          ],
          "barpolar": [
           {
            "marker": {
             "line": {
              "color": "#E5ECF6",
              "width": 0.5
             },
             "pattern": {
              "fillmode": "overlay",
              "size": 10,
              "solidity": 0.2
             }
            },
            "type": "barpolar"
           }
          ],
          "carpet": [
           {
            "aaxis": {
             "endlinecolor": "#2a3f5f",
             "gridcolor": "white",
             "linecolor": "white",
             "minorgridcolor": "white",
             "startlinecolor": "#2a3f5f"
            },
            "baxis": {
             "endlinecolor": "#2a3f5f",
             "gridcolor": "white",
             "linecolor": "white",
             "minorgridcolor": "white",
             "startlinecolor": "#2a3f5f"
            },
            "type": "carpet"
           }
          ],
          "choropleth": [
           {
            "colorbar": {
             "outlinewidth": 0,
             "ticks": ""
            },
            "type": "choropleth"
           }
          ],
          "contour": [
           {
            "colorbar": {
             "outlinewidth": 0,
             "ticks": ""
            },
            "colorscale": [
             [
              0,
              "#0d0887"
             ],
             [
              0.1111111111111111,
              "#46039f"
             ],
             [
              0.2222222222222222,
              "#7201a8"
             ],
             [
              0.3333333333333333,
              "#9c179e"
             ],
             [
              0.4444444444444444,
              "#bd3786"
             ],
             [
              0.5555555555555556,
              "#d8576b"
             ],
             [
              0.6666666666666666,
              "#ed7953"
             ],
             [
              0.7777777777777778,
              "#fb9f3a"
             ],
             [
              0.8888888888888888,
              "#fdca26"
             ],
             [
              1,
              "#f0f921"
             ]
            ],
            "type": "contour"
           }
          ],
          "contourcarpet": [
           {
            "colorbar": {
             "outlinewidth": 0,
             "ticks": ""
            },
            "type": "contourcarpet"
           }
          ],
          "heatmap": [
           {
            "colorbar": {
             "outlinewidth": 0,
             "ticks": ""
            },
            "colorscale": [
             [
              0,
              "#0d0887"
             ],
             [
              0.1111111111111111,
              "#46039f"
             ],
             [
              0.2222222222222222,
              "#7201a8"
             ],
             [
              0.3333333333333333,
              "#9c179e"
             ],
             [
              0.4444444444444444,
              "#bd3786"
             ],
             [
              0.5555555555555556,
              "#d8576b"
             ],
             [
              0.6666666666666666,
              "#ed7953"
             ],
             [
              0.7777777777777778,
              "#fb9f3a"
             ],
             [
              0.8888888888888888,
              "#fdca26"
             ],
             [
              1,
              "#f0f921"
             ]
            ],
            "type": "heatmap"
           }
          ],
          "heatmapgl": [
           {
            "colorbar": {
             "outlinewidth": 0,
             "ticks": ""
            },
            "colorscale": [
             [
              0,
              "#0d0887"
             ],
             [
              0.1111111111111111,
              "#46039f"
             ],
             [
              0.2222222222222222,
              "#7201a8"
             ],
             [
              0.3333333333333333,
              "#9c179e"
             ],
             [
              0.4444444444444444,
              "#bd3786"
             ],
             [
              0.5555555555555556,
              "#d8576b"
             ],
             [
              0.6666666666666666,
              "#ed7953"
             ],
             [
              0.7777777777777778,
              "#fb9f3a"
             ],
             [
              0.8888888888888888,
              "#fdca26"
             ],
             [
              1,
              "#f0f921"
             ]
            ],
            "type": "heatmapgl"
           }
          ],
          "histogram": [
           {
            "marker": {
             "pattern": {
              "fillmode": "overlay",
              "size": 10,
              "solidity": 0.2
             }
            },
            "type": "histogram"
           }
          ],
          "histogram2d": [
           {
            "colorbar": {
             "outlinewidth": 0,
             "ticks": ""
            },
            "colorscale": [
             [
              0,
              "#0d0887"
             ],
             [
              0.1111111111111111,
              "#46039f"
             ],
             [
              0.2222222222222222,
              "#7201a8"
             ],
             [
              0.3333333333333333,
              "#9c179e"
             ],
             [
              0.4444444444444444,
              "#bd3786"
             ],
             [
              0.5555555555555556,
              "#d8576b"
             ],
             [
              0.6666666666666666,
              "#ed7953"
             ],
             [
              0.7777777777777778,
              "#fb9f3a"
             ],
             [
              0.8888888888888888,
              "#fdca26"
             ],
             [
              1,
              "#f0f921"
             ]
            ],
            "type": "histogram2d"
           }
          ],
          "histogram2dcontour": [
           {
            "colorbar": {
             "outlinewidth": 0,
             "ticks": ""
            },
            "colorscale": [
             [
              0,
              "#0d0887"
             ],
             [
              0.1111111111111111,
              "#46039f"
             ],
             [
              0.2222222222222222,
              "#7201a8"
             ],
             [
              0.3333333333333333,
              "#9c179e"
             ],
             [
              0.4444444444444444,
              "#bd3786"
             ],
             [
              0.5555555555555556,
              "#d8576b"
             ],
             [
              0.6666666666666666,
              "#ed7953"
             ],
             [
              0.7777777777777778,
              "#fb9f3a"
             ],
             [
              0.8888888888888888,
              "#fdca26"
             ],
             [
              1,
              "#f0f921"
             ]
            ],
            "type": "histogram2dcontour"
           }
          ],
          "mesh3d": [
           {
            "colorbar": {
             "outlinewidth": 0,
             "ticks": ""
            },
            "type": "mesh3d"
           }
          ],
          "parcoords": [
           {
            "line": {
             "colorbar": {
              "outlinewidth": 0,
              "ticks": ""
             }
            },
            "type": "parcoords"
           }
          ],
          "pie": [
           {
            "automargin": true,
            "type": "pie"
           }
          ],
          "scatter": [
           {
            "fillpattern": {
             "fillmode": "overlay",
             "size": 10,
             "solidity": 0.2
            },
            "type": "scatter"
           }
          ],
          "scatter3d": [
           {
            "line": {
             "colorbar": {
              "outlinewidth": 0,
              "ticks": ""
             }
            },
            "marker": {
             "colorbar": {
              "outlinewidth": 0,
              "ticks": ""
             }
            },
            "type": "scatter3d"
           }
          ],
          "scattercarpet": [
           {
            "marker": {
             "colorbar": {
              "outlinewidth": 0,
              "ticks": ""
             }
            },
            "type": "scattercarpet"
           }
          ],
          "scattergeo": [
           {
            "marker": {
             "colorbar": {
              "outlinewidth": 0,
              "ticks": ""
             }
            },
            "type": "scattergeo"
           }
          ],
          "scattergl": [
           {
            "marker": {
             "colorbar": {
              "outlinewidth": 0,
              "ticks": ""
             }
            },
            "type": "scattergl"
           }
          ],
          "scattermapbox": [
           {
            "marker": {
             "colorbar": {
              "outlinewidth": 0,
              "ticks": ""
             }
            },
            "type": "scattermapbox"
           }
          ],
          "scatterpolar": [
           {
            "marker": {
             "colorbar": {
              "outlinewidth": 0,
              "ticks": ""
             }
            },
            "type": "scatterpolar"
           }
          ],
          "scatterpolargl": [
           {
            "marker": {
             "colorbar": {
              "outlinewidth": 0,
              "ticks": ""
             }
            },
            "type": "scatterpolargl"
           }
          ],
          "scatterternary": [
           {
            "marker": {
             "colorbar": {
              "outlinewidth": 0,
              "ticks": ""
             }
            },
            "type": "scatterternary"
           }
          ],
          "surface": [
           {
            "colorbar": {
             "outlinewidth": 0,
             "ticks": ""
            },
            "colorscale": [
             [
              0,
              "#0d0887"
             ],
             [
              0.1111111111111111,
              "#46039f"
             ],
             [
              0.2222222222222222,
              "#7201a8"
             ],
             [
              0.3333333333333333,
              "#9c179e"
             ],
             [
              0.4444444444444444,
              "#bd3786"
             ],
             [
              0.5555555555555556,
              "#d8576b"
             ],
             [
              0.6666666666666666,
              "#ed7953"
             ],
             [
              0.7777777777777778,
              "#fb9f3a"
             ],
             [
              0.8888888888888888,
              "#fdca26"
             ],
             [
              1,
              "#f0f921"
             ]
            ],
            "type": "surface"
           }
          ],
          "table": [
           {
            "cells": {
             "fill": {
              "color": "#EBF0F8"
             },
             "line": {
              "color": "white"
             }
            },
            "header": {
             "fill": {
              "color": "#C8D4E3"
             },
             "line": {
              "color": "white"
             }
            },
            "type": "table"
           }
          ]
         },
         "layout": {
          "annotationdefaults": {
           "arrowcolor": "#2a3f5f",
           "arrowhead": 0,
           "arrowwidth": 1
          },
          "autotypenumbers": "strict",
          "coloraxis": {
           "colorbar": {
            "outlinewidth": 0,
            "ticks": ""
           }
          },
          "colorscale": {
           "diverging": [
            [
             0,
             "#8e0152"
            ],
            [
             0.1,
             "#c51b7d"
            ],
            [
             0.2,
             "#de77ae"
            ],
            [
             0.3,
             "#f1b6da"
            ],
            [
             0.4,
             "#fde0ef"
            ],
            [
             0.5,
             "#f7f7f7"
            ],
            [
             0.6,
             "#e6f5d0"
            ],
            [
             0.7,
             "#b8e186"
            ],
            [
             0.8,
             "#7fbc41"
            ],
            [
             0.9,
             "#4d9221"
            ],
            [
             1,
             "#276419"
            ]
           ],
           "sequential": [
            [
             0,
             "#0d0887"
            ],
            [
             0.1111111111111111,
             "#46039f"
            ],
            [
             0.2222222222222222,
             "#7201a8"
            ],
            [
             0.3333333333333333,
             "#9c179e"
            ],
            [
             0.4444444444444444,
             "#bd3786"
            ],
            [
             0.5555555555555556,
             "#d8576b"
            ],
            [
             0.6666666666666666,
             "#ed7953"
            ],
            [
             0.7777777777777778,
             "#fb9f3a"
            ],
            [
             0.8888888888888888,
             "#fdca26"
            ],
            [
             1,
             "#f0f921"
            ]
           ],
           "sequentialminus": [
            [
             0,
             "#0d0887"
            ],
            [
             0.1111111111111111,
             "#46039f"
            ],
            [
             0.2222222222222222,
             "#7201a8"
            ],
            [
             0.3333333333333333,
             "#9c179e"
            ],
            [
             0.4444444444444444,
             "#bd3786"
            ],
            [
             0.5555555555555556,
             "#d8576b"
            ],
            [
             0.6666666666666666,
             "#ed7953"
            ],
            [
             0.7777777777777778,
             "#fb9f3a"
            ],
            [
             0.8888888888888888,
             "#fdca26"
            ],
            [
             1,
             "#f0f921"
            ]
           ]
          },
          "colorway": [
           "#636efa",
           "#EF553B",
           "#00cc96",
           "#ab63fa",
           "#FFA15A",
           "#19d3f3",
           "#FF6692",
           "#B6E880",
           "#FF97FF",
           "#FECB52"
          ],
          "font": {
           "color": "#2a3f5f"
          },
          "geo": {
           "bgcolor": "white",
           "lakecolor": "white",
           "landcolor": "#E5ECF6",
           "showlakes": true,
           "showland": true,
           "subunitcolor": "white"
          },
          "hoverlabel": {
           "align": "left"
          },
          "hovermode": "closest",
          "mapbox": {
           "style": "light"
          },
          "paper_bgcolor": "white",
          "plot_bgcolor": "#E5ECF6",
          "polar": {
           "angularaxis": {
            "gridcolor": "white",
            "linecolor": "white",
            "ticks": ""
           },
           "bgcolor": "#E5ECF6",
           "radialaxis": {
            "gridcolor": "white",
            "linecolor": "white",
            "ticks": ""
           }
          },
          "scene": {
           "xaxis": {
            "backgroundcolor": "#E5ECF6",
            "gridcolor": "white",
            "gridwidth": 2,
            "linecolor": "white",
            "showbackground": true,
            "ticks": "",
            "zerolinecolor": "white"
           },
           "yaxis": {
            "backgroundcolor": "#E5ECF6",
            "gridcolor": "white",
            "gridwidth": 2,
            "linecolor": "white",
            "showbackground": true,
            "ticks": "",
            "zerolinecolor": "white"
           },
           "zaxis": {
            "backgroundcolor": "#E5ECF6",
            "gridcolor": "white",
            "gridwidth": 2,
            "linecolor": "white",
            "showbackground": true,
            "ticks": "",
            "zerolinecolor": "white"
           }
          },
          "shapedefaults": {
           "line": {
            "color": "#2a3f5f"
           }
          },
          "ternary": {
           "aaxis": {
            "gridcolor": "white",
            "linecolor": "white",
            "ticks": ""
           },
           "baxis": {
            "gridcolor": "white",
            "linecolor": "white",
            "ticks": ""
           },
           "bgcolor": "#E5ECF6",
           "caxis": {
            "gridcolor": "white",
            "linecolor": "white",
            "ticks": ""
           }
          },
          "title": {
           "x": 0.05
          },
          "xaxis": {
           "automargin": true,
           "gridcolor": "white",
           "linecolor": "white",
           "ticks": "",
           "title": {
            "standoff": 15
           },
           "zerolinecolor": "white",
           "zerolinewidth": 2
          },
          "yaxis": {
           "automargin": true,
           "gridcolor": "white",
           "linecolor": "white",
           "ticks": "",
           "title": {
            "standoff": 15
           },
           "zerolinecolor": "white",
           "zerolinewidth": 2
          }
         }
        },
        "title": {
         "font": {
          "color": "black"
         },
         "text": "Clustering Aglomerativo con 3 Clusters"
        }
       }
      }
     },
     "metadata": {},
     "output_type": "display_data"
    }
   ],
   "source": [
    "best_n_clusters = 3\n",
    "\n",
    "clustering_pca = AgglomerativeClustering(n_clusters=best_n_clusters)\n",
    "labels_pca = clustering_pca.fit_predict(X_pca)\n",
    "\n",
    "# Visualization of the clusters in 3D\n",
    "fig = px.scatter_3d(\n",
    "    x=X_pca[:, 0], \n",
    "    y=X_pca[:, 1], \n",
    "    z=X_pca[:, 2], \n",
    "    color=labels_pca.astype(str),\n",
    "    title=f'Clustering Aglomerativo con {best_n_clusters} Clusters',\n",
    "    labels={'x': 'PCA Dimension 1', 'y': 'PCA Dimension 2', 'z': 'PCA Dimension 3'},\n",
    "    color_continuous_scale='Spectral'\n",
    ")\n",
    "\n",
    "fig.update_traces(marker=dict(size=5)) \n",
    "fig.update_layout(\n",
    "    scene=dict(\n",
    "        xaxis_title='PCA Dimension 1',\n",
    "        yaxis_title='PCA Dimension 2',\n",
    "        zaxis_title='PCA Dimension 3',\n",
    "        xaxis=dict(title_font=dict(color='black'), tickfont=dict(color='black')),\n",
    "        yaxis=dict(title_font=dict(color='black'), tickfont=dict(color='black')),\n",
    "        zaxis=dict(title_font=dict(color='black'), tickfont=dict(color='black'))\n",
    "    ),\n",
    "    margin=dict(l=0, r=0, b=0, t=40),\n",
    "    title_font=dict(color='black'),\n",
    "    font=dict(color='black'),\n",
    "    legend=dict(\n",
    "        title_font=dict(color='black'),\n",
    "        font=dict(color='black'),\n",
    "        yanchor='top',\n",
    "        y=1,\n",
    "        xanchor='left',\n",
    "        x=1.02,\n",
    "        orientation='v'  # Vertical\n",
    "    )\n",
    ")\n",
    "\n",
    "fig.show()"
   ]
  },
  {
   "cell_type": "code",
   "execution_count": 17,
   "id": "ee910ba7",
   "metadata": {},
   "outputs": [
    {
     "data": {
      "image/png": "[encoded data removed]",
      "text/plain": [
       "<Figure size 432x288 with 2 Axes>"
      ]
     },
     "metadata": {
      "needs_background": "light"
     },
     "output_type": "display_data"
    },
    {
     "data": {
      "image/png": "[encoded data removed]",
      "text/plain": [
       "<Figure size 432x288 with 2 Axes>"
      ]
     },
     "metadata": {
      "needs_background": "light"
     },
     "output_type": "display_data"
    }
   ],
   "source": [
    "silhouette_scores, inertia_scores, davies_bouldin_scores, gap_statistics = calculate_metrics(X_umap)\n",
    "plot_silhouette_davies_bouldin(silhouette_scores, davies_bouldin_scores)\n",
    "plot_inertia_gap(inertia_scores, gap_statistics)"
   ]
  },
  {
   "cell_type": "markdown",
   "id": "014f88bd",
   "metadata": {},
   "source": [
    "#### Using UMAP reduction"
   ]
  },
  {
   "cell_type": "code",
   "execution_count": 18,
   "id": "38af3005",
   "metadata": {},
   "outputs": [
    {
     "data": {
      "application/vnd.plotly.v1+json": {
       "config": {
        "plotlyServerURL": "https://plot.ly"
       },
       "data": [
        {
         "hovertemplate": "color=0<br>UMAP Dimension 1=%{x}<br>UMAP Dimension 2=%{y}<br>UMAP Dimension 3=%{z}<extra></extra>",
         "legendgroup": "0",
         "marker": {
          "color": "#636efa",
          "size": 5,
          "symbol": "circle"
         },
         "mode": "markers",
         "name": "0",
         "scene": "scene",
         "showlegend": true,
         "type": "scatter3d",
         "x": [
          2.2004494667053223,
          2.4199535846710205,
          2.5748441219329834,
          3.0348060131073,
          3.180128574371338,
          2.3140370845794678,
          2.851137161254883,
          1.9249885082244873,
          2.6186203956604004,
          3.143514394760132,
          3.5114455223083496,
          2.61226487159729,
          2.1261556148529053,
          2.4999868869781494,
          2.392113447189331,
          2.6976537704467773,
          3.1070027351379395,
          3.3566880226135254,
          2.563948392868042,
          2.84773850440979,
          2.6022086143493652,
          2.422805070877075,
          2.4920036792755127,
          2.397911310195923,
          2.9032137393951416,
          3.0471415519714355,
          3.1180076599121094,
          2.7388646602630615,
          3.650818109512329,
          3.3506481647491455,
          2.8020713329315186,
          3.1091229915618896,
          2.596076250076294,
          3.5453717708587646,
          3.546586275100708,
          2.637467384338379,
          2.223872184753418,
          3.44289231300354,
          3.258234977722168,
          2.9089879989624023,
          2.479249954223633,
          2.8593270778656006,
          3.589064836502075,
          3.3321895599365234,
          2.6402971744537354,
          3.129035234451294,
          3.4699857234954834,
          3.1955573558807373,
          3.5627830028533936,
          3.558460235595703,
          2.1573362350463867,
          2.122000217437744,
          3.385324478149414
         ],
         "y": [
          7.870033264160156,
          6.232112884521484,
          6.703531265258789,
          8.141584396362305,
          8.293096542358398,
          7.6775431632995605,
          8.061975479125977,
          7.962471961975098,
          7.069021701812744,
          6.716850757598877,
          6.559698104858398,
          7.383507251739502,
          7.5805745124816895,
          8.083508491516113,
          7.874349117279053,
          6.035898685455322,
          8.497118949890137,
          8.743898391723633,
          7.557275295257568,
          8.47473430633545,
          7.556205749511719,
          7.289522647857666,
          6.9792914390563965,
          7.507683277130127,
          6.259226322174072,
          7.8327226638793945,
          7.798359394073486,
          6.388650894165039,
          7.067887306213379,
          8.369000434875488,
          8.150440216064453,
          8.286460876464844,
          6.242550373077393,
          6.753497123718262,
          6.078863620758057,
          7.723297595977783,
          5.817634105682373,
          6.964926242828369,
          7.053417205810547,
          7.873933792114258,
          8.057905197143555,
          8.20293140411377,
          8.138710021972656,
          8.193890571594238,
          7.747013092041016,
          8.305974006652832,
          8.560044288635254,
          8.815467834472656,
          7.222469329833984,
          7.6377787590026855,
          5.912649631500244,
          5.90747594833374,
          8.003852844238281
         ],
         "z": [
          -2.1381802558898926,
          -2.0698845386505127,
          -2.093355894088745,
          -1.4016939401626587,
          -1.2278790473937988,
          -0.46514517068862915,
          -2.279062271118164,
          -1.979897379875183,
          -2.1358392238616943,
          -2.307983160018921,
          -2.2861883640289307,
          -1.6280227899551392,
          -0.5373295545578003,
          -0.7432445287704468,
          -0.7303802371025085,
          -1.8133656978607178,
          -0.9720327854156494,
          -1.1469095945358276,
          -0.9243707656860352,
          -0.8801095485687256,
          -2.4457807540893555,
          -1.2768524885177612,
          -0.8574777245521545,
          -2.3659427165985107,
          -2.25050950050354,
          -2.065640926361084,
          -1.399465560913086,
          -1.9785937070846558,
          -1.7837200164794922,
          -0.9597616195678711,
          -1.0220283269882202,
          -1.9483932256698608,
          -1.360470175743103,
          -1.7498575448989868,
          -2.557598829269409,
          -1.340362787246704,
          -1.287412166595459,
          -1.6151968240737915,
          -1.26076340675354,
          -1.8370649814605713,
          -0.4715879261493683,
          -0.6279621124267578,
          -1.2919087409973145,
          -0.8388647437095642,
          -2.1903867721557617,
          -1.7192566394805908,
          -1.2293825149536133,
          -1.0239237546920776,
          -1.404921531677246,
          -1.4279303550720215,
          -1.2015115022659302,
          -1.0959162712097168,
          -1.0470399856567383
         ]
        },
        {
         "hovertemplate": "color=1<br>UMAP Dimension 1=%{x}<br>UMAP Dimension 2=%{y}<br>UMAP Dimension 3=%{z}<extra></extra>",
         "legendgroup": "1",
         "marker": {
          "color": "#EF553B",
          "size": 5,
          "symbol": "circle"
         },
         "mode": "markers",
         "name": "1",
         "scene": "scene",
         "showlegend": true,
         "type": "scatter3d",
         "x": [
          0.6927191615104675,
          1.6054208278656006,
          0.8516725301742554,
          0.9176572561264038,
          1.2605584859848022,
          0.7229910492897034,
          0.9599369764328003,
          0.8972572088241577,
          0.7063226103782654,
          0.5384456515312195,
          1.1648865938186646,
          0.8843580484390259,
          0.4415285587310791,
          1.2027292251586914,
          0.9451169371604919,
          1.2969870567321777,
          1.99986732006073,
          0.9338670969009399,
          1.7191914319992065,
          0.9966443181037903,
          1.1452739238739014,
          0.9344823956489563,
          1.913115382194519,
          0.7085534334182739,
          0.41119447350502014,
          1.9150044918060303,
          0.5137001872062683,
          0.927335798740387,
          1.1155496835708618,
          1.511109471321106,
          0.3909522294998169,
          1.8334238529205322,
          1.0380525588989258,
          1.702273964881897,
          0.9045184850692749,
          1.653552532196045,
          1.3866982460021973,
          0.7539060115814209,
          1.8528270721435547,
          0.985675036907196,
          1.0445345640182495,
          1.0651353597640991,
          0.8172479271888733,
          1.5930498838424683,
          1.0851614475250244,
          0.7224717736244202,
          1.1042810678482056,
          1.2247626781463623,
          1.4753475189208984,
          1.335741400718689,
          0.6367072463035583,
          1.1770967245101929,
          1.211340308189392,
          1.5905954837799072,
          0.8556586503982544
         ],
         "y": [
          5.748981475830078,
          4.545184135437012,
          6.413111686706543,
          5.824659824371338,
          5.022755146026611,
          5.331080436706543,
          5.660205364227295,
          5.145707607269287,
          6.552547454833984,
          6.244900703430176,
          5.391662120819092,
          5.734451770782471,
          6.7092413902282715,
          5.838162899017334,
          7.052249431610107,
          5.497579574584961,
          7.4859137535095215,
          6.825378894805908,
          7.2277679443359375,
          7.182891368865967,
          7.661256313323975,
          4.9752326011657715,
          7.383331775665283,
          5.114544868469238,
          6.624943733215332,
          7.597860813140869,
          6.1130900382995605,
          6.067748546600342,
          5.740200042724609,
          7.114175796508789,
          6.372551918029785,
          7.013044834136963,
          7.231203556060791,
          4.511876583099365,
          6.098036289215088,
          4.719511032104492,
          4.6362714767456055,
          6.269588947296143,
          6.398689270019531,
          7.110169410705566,
          5.3639631271362305,
          7.490509033203125,
          5.754561901092529,
          7.416797161102295,
          7.493659973144531,
          6.8853960037231445,
          6.620704650878906,
          4.7330803871154785,
          6.63292121887207,
          5.88114070892334,
          6.641027927398682,
          5.9188551902771,
          5.892636775970459,
          6.257867336273193,
          5.160661697387695
         ],
         "z": [
          -1.3802417516708374,
          -2.049227476119995,
          -0.7102407813072205,
          -1.316785216331482,
          -2.513134479522705,
          -1.7264623641967773,
          -0.7289323210716248,
          -2.3541321754455566,
          -2.0508079528808594,
          -1.3892778158187866,
          -1.2468281984329224,
          -0.6715646982192993,
          -1.4488240480422974,
          -0.7504386305809021,
          -0.953508734703064,
          -0.840738832950592,
          -1.5047240257263184,
          -1.5664772987365723,
          -0.7631251811981201,
          -1.8270447254180908,
          -1.240288257598877,
          -1.7979602813720703,
          -0.8108793497085571,
          -1.8207594156265259,
          -1.482472538948059,
          -1.2748790979385376,
          -1.9325789213180542,
          -2.2128281593322754,
          -0.826076328754425,
          -1.6213854551315308,
          -1.7229011058807373,
          -1.5839688777923584,
          -1.5957833528518677,
          -2.007347822189331,
          -2.2313897609710693,
          -1.7338966131210327,
          -2.2467713356018066,
          -0.7284225225448608,
          -1.7014528512954712,
          -1.2512190341949463,
          -1.780956506729126,
          -1.0625040531158447,
          -0.7999464869499207,
          -1.4390560388565063,
          -1.4449446201324463,
          -1.07378089427948,
          -1.9878697395324707,
          -2.4338817596435547,
          -1.9213989973068237,
          -1.7820967435836792,
          -0.8708308935165405,
          -2.501182794570923,
          -2.182443618774414,
          -2.2198870182037354,
          -1.6777069568634033
         ]
        },
        {
         "hovertemplate": "color=2<br>UMAP Dimension 1=%{x}<br>UMAP Dimension 2=%{y}<br>UMAP Dimension 3=%{z}<extra></extra>",
         "legendgroup": "2",
         "marker": {
          "color": "#00cc96",
          "size": 5,
          "symbol": "circle"
         },
         "mode": "markers",
         "name": "2",
         "scene": "scene",
         "showlegend": true,
         "type": "scatter3d",
         "x": [
          3.154538869857788,
          2.4816269874572754,
          2.53110933303833,
          1.996614933013916,
          2.8732385635375977,
          1.71376371383667,
          3.479672908782959,
          3.4207468032836914,
          2.932480812072754,
          3.350187063217163,
          2.208529472351074,
          2.5761146545410156,
          2.6120269298553467,
          3.229856252670288,
          2.0841786861419678,
          1.647647500038147,
          3.288900375366211,
          2.5776429176330566,
          1.9021284580230713,
          1.9505140781402588,
          2.172010660171509,
          2.5786514282226562,
          2.5347535610198975,
          2.423469066619873,
          3.198437452316284,
          2.304750680923462,
          2.8751163482666016,
          3.1272881031036377,
          2.1101460456848145,
          2.5910768508911133,
          1.9159305095672607,
          2.6767711639404297,
          2.8101484775543213,
          2.6266541481018066,
          2.699242353439331,
          2.516813278198242,
          2.3108558654785156,
          1.932790994644165,
          3.0218703746795654,
          2.827298402786255
         ],
         "y": [
          5.379455089569092,
          5.267266273498535,
          5.506735801696777,
          5.621651649475098,
          5.975824356079102,
          5.075511455535889,
          5.477605819702148,
          5.262007713317871,
          4.991577625274658,
          4.906288146972656,
          6.159528732299805,
          4.942465305328369,
          4.590202808380127,
          5.063708305358887,
          6.339550495147705,
          5.026889324188232,
          5.3127827644348145,
          4.4087324142456055,
          4.7287211418151855,
          5.953279495239258,
          5.229869842529297,
          4.894046306610107,
          4.726845741271973,
          4.890256881713867,
          4.809481143951416,
          5.748359680175781,
          4.570580005645752,
          5.7645955085754395,
          5.0023932456970215,
          4.467477321624756,
          4.7551679611206055,
          6.045429706573486,
          4.581759452819824,
          4.843253135681152,
          6.622281551361084,
          4.383876800537109,
          4.562145709991455,
          4.881472110748291,
          4.898288726806641,
          4.671785354614258
         ],
         "z": [
          -2.7949039936065674,
          -2.441716432571411,
          -3.0855493545532227,
          -2.7846856117248535,
          -2.6372146606445312,
          -3.338322162628174,
          -3.1422030925750732,
          -2.997546911239624,
          -3.301405191421509,
          -2.501372814178467,
          -3.020000457763672,
          -2.809009075164795,
          -2.7308290004730225,
          -2.8467888832092285,
          -2.6977357864379883,
          -2.9349989891052246,
          -2.6812517642974854,
          -3.3975114822387695,
          -3.4099769592285156,
          -2.505223274230957,
          -3.1769392490386963,
          -3.3317296504974365,
          -1.9275847673416138,
          -3.58992338180542,
          -2.5251898765563965,
          -3.3620476722717285,
          -3.478322744369507,
          -3.207886219024658,
          -3.5545907020568848,
          -2.4985923767089844,
          -3.1194050312042236,
          -3.220884323120117,
          -2.5426948070526123,
          -1.7839417457580566,
          -3.097731828689575,
          -3.455000162124634,
          -3.336907148361206,
          -3.653061866760254,
          -3.451385498046875,
          -2.8540618419647217
         ]
        }
       ],
       "layout": {
        "legend": {
         "title": {
          "text": "color"
         },
         "tracegroupgap": 0
        },
        "margin": {
         "b": 0,
         "l": 0,
         "r": 0,
         "t": 40
        },
        "scene": {
         "domain": {
          "x": [
           0,
           1
          ],
          "y": [
           0,
           1
          ]
         },
         "xaxis": {
          "title": {
           "text": "UMAP Dimension 1"
          }
         },
         "yaxis": {
          "title": {
           "text": "UMAP Dimension 2"
          }
         },
         "zaxis": {
          "title": {
           "text": "UMAP Dimension 3"
          }
         }
        },
        "template": {
         "data": {
          "bar": [
           {
            "error_x": {
             "color": "#2a3f5f"
            },
            "error_y": {
             "color": "#2a3f5f"
            },
            "marker": {
             "line": {
              "color": "#E5ECF6",
              "width": 0.5
             },
             "pattern": {
              "fillmode": "overlay",
              "size": 10,
              "solidity": 0.2
             }
            },
            "type": "bar"
           }
          ],
          "barpolar": [
           {
            "marker": {
             "line": {
              "color": "#E5ECF6",
              "width": 0.5
             },
             "pattern": {
              "fillmode": "overlay",
              "size": 10,
              "solidity": 0.2
             }
            },
            "type": "barpolar"
           }
          ],
          "carpet": [
           {
            "aaxis": {
             "endlinecolor": "#2a3f5f",
             "gridcolor": "white",
             "linecolor": "white",
             "minorgridcolor": "white",
             "startlinecolor": "#2a3f5f"
            },
            "baxis": {
             "endlinecolor": "#2a3f5f",
             "gridcolor": "white",
             "linecolor": "white",
             "minorgridcolor": "white",
             "startlinecolor": "#2a3f5f"
            },
            "type": "carpet"
           }
          ],
          "choropleth": [
           {
            "colorbar": {
             "outlinewidth": 0,
             "ticks": ""
            },
            "type": "choropleth"
           }
          ],
          "contour": [
           {
            "colorbar": {
             "outlinewidth": 0,
             "ticks": ""
            },
            "colorscale": [
             [
              0,
              "#0d0887"
             ],
             [
              0.1111111111111111,
              "#46039f"
             ],
             [
              0.2222222222222222,
              "#7201a8"
             ],
             [
              0.3333333333333333,
              "#9c179e"
             ],
             [
              0.4444444444444444,
              "#bd3786"
             ],
             [
              0.5555555555555556,
              "#d8576b"
             ],
             [
              0.6666666666666666,
              "#ed7953"
             ],
             [
              0.7777777777777778,
              "#fb9f3a"
             ],
             [
              0.8888888888888888,
              "#fdca26"
             ],
             [
              1,
              "#f0f921"
             ]
            ],
            "type": "contour"
           }
          ],
          "contourcarpet": [
           {
            "colorbar": {
             "outlinewidth": 0,
             "ticks": ""
            },
            "type": "contourcarpet"
           }
          ],
          "heatmap": [
           {
            "colorbar": {
             "outlinewidth": 0,
             "ticks": ""
            },
            "colorscale": [
             [
              0,
              "#0d0887"
             ],
             [
              0.1111111111111111,
              "#46039f"
             ],
             [
              0.2222222222222222,
              "#7201a8"
             ],
             [
              0.3333333333333333,
              "#9c179e"
             ],
             [
              0.4444444444444444,
              "#bd3786"
             ],
             [
              0.5555555555555556,
              "#d8576b"
             ],
             [
              0.6666666666666666,
              "#ed7953"
             ],
             [
              0.7777777777777778,
              "#fb9f3a"
             ],
             [
              0.8888888888888888,
              "#fdca26"
             ],
             [
              1,
              "#f0f921"
             ]
            ],
            "type": "heatmap"
           }
          ],
          "heatmapgl": [
           {
            "colorbar": {
             "outlinewidth": 0,
             "ticks": ""
            },
            "colorscale": [
             [
              0,
              "#0d0887"
             ],
             [
              0.1111111111111111,
              "#46039f"
             ],
             [
              0.2222222222222222,
              "#7201a8"
             ],
             [
              0.3333333333333333,
              "#9c179e"
             ],
             [
              0.4444444444444444,
              "#bd3786"
             ],
             [
              0.5555555555555556,
              "#d8576b"
             ],
             [
              0.6666666666666666,
              "#ed7953"
             ],
             [
              0.7777777777777778,
              "#fb9f3a"
             ],
             [
              0.8888888888888888,
              "#fdca26"
             ],
             [
              1,
              "#f0f921"
             ]
            ],
            "type": "heatmapgl"
           }
          ],
          "histogram": [
           {
            "marker": {
             "pattern": {
              "fillmode": "overlay",
              "size": 10,
              "solidity": 0.2
             }
            },
            "type": "histogram"
           }
          ],
          "histogram2d": [
           {
            "colorbar": {
             "outlinewidth": 0,
             "ticks": ""
            },
            "colorscale": [
             [
              0,
              "#0d0887"
             ],
             [
              0.1111111111111111,
              "#46039f"
             ],
             [
              0.2222222222222222,
              "#7201a8"
             ],
             [
              0.3333333333333333,
              "#9c179e"
             ],
             [
              0.4444444444444444,
              "#bd3786"
             ],
             [
              0.5555555555555556,
              "#d8576b"
             ],
             [
              0.6666666666666666,
              "#ed7953"
             ],
             [
              0.7777777777777778,
              "#fb9f3a"
             ],
             [
              0.8888888888888888,
              "#fdca26"
             ],
             [
              1,
              "#f0f921"
             ]
            ],
            "type": "histogram2d"
           }
          ],
          "histogram2dcontour": [
           {
            "colorbar": {
             "outlinewidth": 0,
             "ticks": ""
            },
            "colorscale": [
             [
              0,
              "#0d0887"
             ],
             [
              0.1111111111111111,
              "#46039f"
             ],
             [
              0.2222222222222222,
              "#7201a8"
             ],
             [
              0.3333333333333333,
              "#9c179e"
             ],
             [
              0.4444444444444444,
              "#bd3786"
             ],
             [
              0.5555555555555556,
              "#d8576b"
             ],
             [
              0.6666666666666666,
              "#ed7953"
             ],
             [
              0.7777777777777778,
              "#fb9f3a"
             ],
             [
              0.8888888888888888,
              "#fdca26"
             ],
             [
              1,
              "#f0f921"
             ]
            ],
            "type": "histogram2dcontour"
           }
          ],
          "mesh3d": [
           {
            "colorbar": {
             "outlinewidth": 0,
             "ticks": ""
            },
            "type": "mesh3d"
           }
          ],
          "parcoords": [
           {
            "line": {
             "colorbar": {
              "outlinewidth": 0,
              "ticks": ""
             }
            },
            "type": "parcoords"
           }
          ],
          "pie": [
           {
            "automargin": true,
            "type": "pie"
           }
          ],
          "scatter": [
           {
            "fillpattern": {
             "fillmode": "overlay",
             "size": 10,
             "solidity": 0.2
            },
            "type": "scatter"
           }
          ],
          "scatter3d": [
           {
            "line": {
             "colorbar": {
              "outlinewidth": 0,
              "ticks": ""
             }
            },
            "marker": {
             "colorbar": {
              "outlinewidth": 0,
              "ticks": ""
             }
            },
            "type": "scatter3d"
           }
          ],
          "scattercarpet": [
           {
            "marker": {
             "colorbar": {
              "outlinewidth": 0,
              "ticks": ""
             }
            },
            "type": "scattercarpet"
           }
          ],
          "scattergeo": [
           {
            "marker": {
             "colorbar": {
              "outlinewidth": 0,
              "ticks": ""
             }
            },
            "type": "scattergeo"
           }
          ],
          "scattergl": [
           {
            "marker": {
             "colorbar": {
              "outlinewidth": 0,
              "ticks": ""
             }
            },
            "type": "scattergl"
           }
          ],
          "scattermapbox": [
           {
            "marker": {
             "colorbar": {
              "outlinewidth": 0,
              "ticks": ""
             }
            },
            "type": "scattermapbox"
           }
          ],
          "scatterpolar": [
           {
            "marker": {
             "colorbar": {
              "outlinewidth": 0,
              "ticks": ""
             }
            },
            "type": "scatterpolar"
           }
          ],
          "scatterpolargl": [
           {
            "marker": {
             "colorbar": {
              "outlinewidth": 0,
              "ticks": ""
             }
            },
            "type": "scatterpolargl"
           }
          ],
          "scatterternary": [
           {
            "marker": {
             "colorbar": {
              "outlinewidth": 0,
              "ticks": ""
             }
            },
            "type": "scatterternary"
           }
          ],
          "surface": [
           {
            "colorbar": {
             "outlinewidth": 0,
             "ticks": ""
            },
            "colorscale": [
             [
              0,
              "#0d0887"
             ],
             [
              0.1111111111111111,
              "#46039f"
             ],
             [
              0.2222222222222222,
              "#7201a8"
             ],
             [
              0.3333333333333333,
              "#9c179e"
             ],
             [
              0.4444444444444444,
              "#bd3786"
             ],
             [
              0.5555555555555556,
              "#d8576b"
             ],
             [
              0.6666666666666666,
              "#ed7953"
             ],
             [
              0.7777777777777778,
              "#fb9f3a"
             ],
             [
              0.8888888888888888,
              "#fdca26"
             ],
             [
              1,
              "#f0f921"
             ]
            ],
            "type": "surface"
           }
          ],
          "table": [
           {
            "cells": {
             "fill": {
              "color": "#EBF0F8"
             },
             "line": {
              "color": "white"
             }
            },
            "header": {
             "fill": {
              "color": "#C8D4E3"
             },
             "line": {
              "color": "white"
             }
            },
            "type": "table"
           }
          ]
         },
         "layout": {
          "annotationdefaults": {
           "arrowcolor": "#2a3f5f",
           "arrowhead": 0,
           "arrowwidth": 1
          },
          "autotypenumbers": "strict",
          "coloraxis": {
           "colorbar": {
            "outlinewidth": 0,
            "ticks": ""
           }
          },
          "colorscale": {
           "diverging": [
            [
             0,
             "#8e0152"
            ],
            [
             0.1,
             "#c51b7d"
            ],
            [
             0.2,
             "#de77ae"
            ],
            [
             0.3,
             "#f1b6da"
            ],
            [
             0.4,
             "#fde0ef"
            ],
            [
             0.5,
             "#f7f7f7"
            ],
            [
             0.6,
             "#e6f5d0"
            ],
            [
             0.7,
             "#b8e186"
            ],
            [
             0.8,
             "#7fbc41"
            ],
            [
             0.9,
             "#4d9221"
            ],
            [
             1,
             "#276419"
            ]
           ],
           "sequential": [
            [
             0,
             "#0d0887"
            ],
            [
             0.1111111111111111,
             "#46039f"
            ],
            [
             0.2222222222222222,
             "#7201a8"
            ],
            [
             0.3333333333333333,
             "#9c179e"
            ],
            [
             0.4444444444444444,
             "#bd3786"
            ],
            [
             0.5555555555555556,
             "#d8576b"
            ],
            [
             0.6666666666666666,
             "#ed7953"
            ],
            [
             0.7777777777777778,
             "#fb9f3a"
            ],
            [
             0.8888888888888888,
             "#fdca26"
            ],
            [
             1,
             "#f0f921"
            ]
           ],
           "sequentialminus": [
            [
             0,
             "#0d0887"
            ],
            [
             0.1111111111111111,
             "#46039f"
            ],
            [
             0.2222222222222222,
             "#7201a8"
            ],
            [
             0.3333333333333333,
             "#9c179e"
            ],
            [
             0.4444444444444444,
             "#bd3786"
            ],
            [
             0.5555555555555556,
             "#d8576b"
            ],
            [
             0.6666666666666666,
             "#ed7953"
            ],
            [
             0.7777777777777778,
             "#fb9f3a"
            ],
            [
             0.8888888888888888,
             "#fdca26"
            ],
            [
             1,
             "#f0f921"
            ]
           ]
          },
          "colorway": [
           "#636efa",
           "#EF553B",
           "#00cc96",
           "#ab63fa",
           "#FFA15A",
           "#19d3f3",
           "#FF6692",
           "#B6E880",
           "#FF97FF",
           "#FECB52"
          ],
          "font": {
           "color": "#2a3f5f"
          },
          "geo": {
           "bgcolor": "white",
           "lakecolor": "white",
           "landcolor": "#E5ECF6",
           "showlakes": true,
           "showland": true,
           "subunitcolor": "white"
          },
          "hoverlabel": {
           "align": "left"
          },
          "hovermode": "closest",
          "mapbox": {
           "style": "light"
          },
          "paper_bgcolor": "white",
          "plot_bgcolor": "#E5ECF6",
          "polar": {
           "angularaxis": {
            "gridcolor": "white",
            "linecolor": "white",
            "ticks": ""
           },
           "bgcolor": "#E5ECF6",
           "radialaxis": {
            "gridcolor": "white",
            "linecolor": "white",
            "ticks": ""
           }
          },
          "scene": {
           "xaxis": {
            "backgroundcolor": "#E5ECF6",
            "gridcolor": "white",
            "gridwidth": 2,
            "linecolor": "white",
            "showbackground": true,
            "ticks": "",
            "zerolinecolor": "white"
           },
           "yaxis": {
            "backgroundcolor": "#E5ECF6",
            "gridcolor": "white",
            "gridwidth": 2,
            "linecolor": "white",
            "showbackground": true,
            "ticks": "",
            "zerolinecolor": "white"
           },
           "zaxis": {
            "backgroundcolor": "#E5ECF6",
            "gridcolor": "white",
            "gridwidth": 2,
            "linecolor": "white",
            "showbackground": true,
            "ticks": "",
            "zerolinecolor": "white"
           }
          },
          "shapedefaults": {
           "line": {
            "color": "#2a3f5f"
           }
          },
          "ternary": {
           "aaxis": {
            "gridcolor": "white",
            "linecolor": "white",
            "ticks": ""
           },
           "baxis": {
            "gridcolor": "white",
            "linecolor": "white",
            "ticks": ""
           },
           "bgcolor": "#E5ECF6",
           "caxis": {
            "gridcolor": "white",
            "linecolor": "white",
            "ticks": ""
           }
          },
          "title": {
           "x": 0.05
          },
          "xaxis": {
           "automargin": true,
           "gridcolor": "white",
           "linecolor": "white",
           "ticks": "",
           "title": {
            "standoff": 15
           },
           "zerolinecolor": "white",
           "zerolinewidth": 2
          },
          "yaxis": {
           "automargin": true,
           "gridcolor": "white",
           "linecolor": "white",
           "ticks": "",
           "title": {
            "standoff": 15
           },
           "zerolinecolor": "white",
           "zerolinewidth": 2
          }
         }
        },
        "title": {
         "text": "Clustering Aglomerativo con 3 Clusters"
        }
       }
      }
     },
     "metadata": {},
     "output_type": "display_data"
    }
   ],
   "source": [
    "best_n_clusters = 3\n",
    "\n",
    "clustering_umap = AgglomerativeClustering(n_clusters=best_n_clusters)\n",
    "labels_umap = clustering_umap.fit_predict(X_umap)\n",
    "\n",
    "# Visualization of the clusters in 3D\n",
    "fig = px.scatter_3d(\n",
    "    x=X_umap[:, 0], \n",
    "    y=X_umap[:, 1], \n",
    "    z=X_umap[:, 2], \n",
    "    color=labels_umap.astype(str),\n",
    "    title=f'Clustering Aglomerativo con {best_n_clusters} Clusters',\n",
    "    labels={'x': 'UMAP Dimension 1', 'y': 'UMAP Dimension 2', 'z': 'UMAP Dimension 3'},\n",
    "    color_continuous_scale='Spectral'\n",
    ")\n",
    "\n",
    "fig.update_traces(marker=dict(size=5)) \n",
    "fig.update_layout(\n",
    "    scene=dict(\n",
    "        xaxis_title='UMAP Dimension 1',\n",
    "        yaxis_title='UMAP Dimension 2',\n",
    "        zaxis_title='UMAP Dimension 3'\n",
    "    ),\n",
    "    margin=dict(l=0, r=0, b=0, t=40)\n",
    ")\n",
    "\n",
    "fig.show()"
   ]
  },
  {
   "cell_type": "markdown",
   "id": "6149363f",
   "metadata": {},
   "source": [
    "#### Check if the clusters obtained with both methods are similar"
   ]
  },
  {
   "cell_type": "code",
   "execution_count": 19,
   "id": "cfc22c32",
   "metadata": {},
   "outputs": [
    {
     "name": "stdout",
     "output_type": "stream",
     "text": [
      "Adjusted Rand Index between PCA and UMAP clustering: 0.4508096544396608\n"
     ]
    }
   ],
   "source": [
    "# Calculate the adjusted Rand index between the labels obtained with PCA and UMAP\n",
    "ari_score = adjusted_rand_score(labels_pca, labels_umap)\n",
    "print(f'Adjusted Rand Index between PCA and UMAP clustering: {ari_score}')"
   ]
  },
  {
   "cell_type": "markdown",
   "id": "f7386f0a",
   "metadata": {},
   "source": [
    "### **Save cluster labels**"
   ]
  },
  {
   "cell_type": "code",
   "execution_count": 20,
   "id": "fffa5352",
   "metadata": {},
   "outputs": [
    {
     "name": "stderr",
     "output_type": "stream",
     "text": [
      "/var/folders/3s/4d1my8ts76j3xs22jwl80rym0000gn/T/ipykernel_14055/3268258363.py:7: UserWarning:\n",
      "\n",
      "Pandas requires version '3.0.5' or newer of 'xlsxwriter' (version '3.0.3' currently installed).\n",
      "\n"
     ]
    }
   ],
   "source": [
    "df_cluster = pd.DataFrame()\n",
    "df_cluster['Participant_ID'] = df['Participant_ID']\n",
    "df_cluster['Mean_Predictability_Negative'] = df['Mean_Predictability_Negative']\n",
    "df_cluster['Cluster'] = labels_pca\n",
    "#df_cluster['Cluster_UMAP'] = labels_umap\n",
    "\n",
    "df_cluster.to_excel('/Users/violetapascuallaborda/Desktop/Analysis/Clusters.xlsx', index=False)"
   ]
  },
  {
   "cell_type": "markdown",
   "id": "b47b2dfa",
   "metadata": {},
   "source": [
    "### **Metrics of predictive processing for each cluster**"
   ]
  },
  {
   "cell_type": "code",
   "execution_count": 21,
   "id": "2b3e143e",
   "metadata": {},
   "outputs": [],
   "source": [
    "# Assuming that df and labels_pca are already defined\n",
    "df['Cluster'] = labels_pca\n",
    "all_metrics = [\n",
    "    'Mean_Predictability_Negative', 'Mean_Predictability_Positive', 'Predictive_Ability_Negative', \n",
    "    'Predictive_Ability_Positive', 'Mean_Predictability_RT', 'Mean_Likeability_RT', \n",
    "    'Distance_Negative', 'Distance_Positive', 'LR_Fulfilled', 'LR_Not_Fulfilled', \n",
    "    'Coherence_Fulfilled', 'Coherence_Not_Fulfilled'\n",
    "]\n",
    "\n",
    "# Calculate metrics for each cluster\n",
    "agg_funcs = {metric: ['mean', 'std'] for metric in all_metrics}\n",
    "metrics = df.groupby('Cluster').agg(agg_funcs)\n",
    "metrics.columns = ['_'.join(col) for col in metrics.columns]\n",
    "metrics = metrics.reset_index()\n",
    "\n",
    "# Add cluster size\n",
    "metrics['Cluster_Size'] = df['Cluster'].value_counts().sort_index().values\n",
    "\n",
    "# Calculate SE for each metric\n",
    "for metric in all_metrics:\n",
    "    metrics[f'{metric}_SE'] = metrics[f'{metric}_std'] / np.sqrt(metrics['Cluster_Size'])\n",
    "\n",
    "# Limit values to two decimal places\n",
    "metrics = metrics.round(2)\n",
    "\n",
    "# Order clusters by 'Mean_Predictability_Negative_mean'\n",
    "ordered_clusters = df.groupby('Cluster')['Mean_Predictability_Negative'].mean().sort_values().index\n",
    "df['Cluster'] = pd.Categorical(df['Cluster'], categories=ordered_clusters, ordered=True)\n",
    "\n",
    "# Create a Word document\n",
    "doc = Document()\n",
    "\n",
    "# Function to add metrics to the document\n",
    "def add_metrics_to_doc(group_name, variables, doc):\n",
    "    doc.add_heading(group_name, level=1)\n",
    "    \n",
    "    for variable in variables:\n",
    "        fig, ax = plt.subplots(figsize=(5, 3))\n",
    "        sns.boxplot(ax=ax, x='Cluster', y=variable, data=df, order=ordered_clusters)\n",
    "        \n",
    "        # Save the figure in a buffer\n",
    "        import io\n",
    "        buffer = io.BytesIO()\n",
    "        plt.savefig(buffer, format='png', bbox_inches='tight')\n",
    "        buffer.seek(0)\n",
    "        \n",
    "        # Add the image to the document\n",
    "        doc.add_picture(buffer, width=Inches(6))\n",
    "        plt.close(fig)\n",
    "        buffer.close()\n",
    "        \n",
    "        # Add table of metrics\n",
    "        table_data = metrics[['Cluster', 'Cluster_Size', f'{variable}_mean', f'{variable}_std', f'{variable}_SE']]\n",
    "        table = doc.add_table(rows=1, cols=len(table_data.columns))\n",
    "        \n",
    "        # Add borders to the table\n",
    "        tbl = table._tbl  # Get the actual table xml element\n",
    "        for cell in tbl.iter_tcs():\n",
    "            tcPr = cell.tcPr  # Get the table cell properties element\n",
    "            tcBorders = OxmlElement('w:tcBorders')  # Create a new borders element\n",
    "\n",
    "            for border_name in ['top', 'start', 'bottom', 'end']:\n",
    "                border = OxmlElement(f'w:{border_name}')\n",
    "                border.set(qn('w:val'), 'single')\n",
    "                border.set(qn('w:sz'), '4')  # 4 twips is 0.5 pt\n",
    "                border.set(qn('w:space'), '0')\n",
    "                border.set(qn('w:color'), '000000')  # Black color\n",
    "                tcBorders.append(border)\n",
    "\n",
    "            tcPr.append(tcBorders)  # Append the borders element to the cell properties\n",
    "\n",
    "        hdr_cells = table.rows[0].cells\n",
    "        for i, col_name in enumerate(table_data.columns):\n",
    "            hdr_cells[i].text = col_name\n",
    "        \n",
    "        for row in table_data.itertuples(index=False):\n",
    "            row_cells = table.add_row().cells\n",
    "            for i, value in enumerate(row):\n",
    "                row_cells[i].text = str(value)\n",
    "                \n",
    "                # Add borders to each data cell\n",
    "                tcPr = row_cells[i]._element.get_or_add_tcPr()\n",
    "                tcBorders = OxmlElement('w:tcBorders')\n",
    "                for border_name in ['top', 'start', 'bottom', 'end']:\n",
    "                    border = OxmlElement(f'w:{border_name}')\n",
    "                    border.set(qn('w:val'), 'single')\n",
    "                    border.set(qn('w:sz'), '4')\n",
    "                    border.set(qn('w:space'), '0')\n",
    "                    border.set(qn('w:color'), '000000')\n",
    "                    tcBorders.append(border)\n",
    "                tcPr.append(tcBorders)\n",
    "\n",
    "        doc.add_paragraph()\n",
    "\n",
    "# Add metrics to the document\n",
    "add_metrics_to_doc('Metrics Analysis', all_metrics, doc)\n",
    "\n",
    "# Save the document\n",
    "doc.save('/Users/violetapascuallaborda/Desktop/Analysis/Predictive_Processing_Boxplots.docx')"
   ]
  }
 ],
 "metadata": {
  "kernelspec": {
   "display_name": "Python 3",
   "language": "python",
   "name": "python3"
  },
  "language_info": {
   "codemirror_mode": {
    "name": "ipython",
    "version": 3
   },
   "file_extension": ".py",
   "mimetype": "text/x-python",
   "name": "python",
   "nbconvert_exporter": "python",
   "pygments_lexer": "ipython3",
   "version": "3.9.12"
  }
 },
 "nbformat": 4,
 "nbformat_minor": 5
}
